{
 "cells": [
  {
   "cell_type": "markdown",
   "metadata": {},
   "source": [
    "# Rain Prediction in Sydeny AUS"
   ]
  },
  {
   "cell_type": "markdown",
   "metadata": {},
   "source": [
    "\n",
    "I built a classifier to predict whether or not it will rain tomorrow in Sydney (Australia) by training a binary classification model. I have used the Rain in Australia dataset downloaded from the Kaggle website.\n",
    "\n",
    "# 1.Data"
   ]
  },
  {
   "cell_type": "code",
   "execution_count": 31,
   "metadata": {},
   "outputs": [],
   "source": [
    "import pandas as pd\n",
    "import matplotlib.pyplot as plt\n",
    "%matplotlib inline"
   ]
  },
  {
   "cell_type": "code",
   "execution_count": 32,
   "metadata": {},
   "outputs": [
    {
     "data": {
      "text/html": [
       "<div>\n",
       "<style scoped>\n",
       "    .dataframe tbody tr th:only-of-type {\n",
       "        vertical-align: middle;\n",
       "    }\n",
       "\n",
       "    .dataframe tbody tr th {\n",
       "        vertical-align: top;\n",
       "    }\n",
       "\n",
       "    .dataframe thead th {\n",
       "        text-align: right;\n",
       "    }\n",
       "</style>\n",
       "<table border=\"1\" class=\"dataframe\">\n",
       "  <thead>\n",
       "    <tr style=\"text-align: right;\">\n",
       "      <th></th>\n",
       "      <th>Date</th>\n",
       "      <th>Location</th>\n",
       "      <th>MinTemp</th>\n",
       "      <th>MaxTemp</th>\n",
       "      <th>Rainfall</th>\n",
       "      <th>Evaporation</th>\n",
       "      <th>Sunshine</th>\n",
       "      <th>WindGustDir</th>\n",
       "      <th>WindGustSpeed</th>\n",
       "      <th>WindDir9am</th>\n",
       "      <th>...</th>\n",
       "      <th>Humidity9am</th>\n",
       "      <th>Humidity3pm</th>\n",
       "      <th>Pressure9am</th>\n",
       "      <th>Pressure3pm</th>\n",
       "      <th>Cloud9am</th>\n",
       "      <th>Cloud3pm</th>\n",
       "      <th>Temp9am</th>\n",
       "      <th>Temp3pm</th>\n",
       "      <th>RainToday</th>\n",
       "      <th>RainTomorrow</th>\n",
       "    </tr>\n",
       "  </thead>\n",
       "  <tbody>\n",
       "    <tr>\n",
       "      <th>0</th>\n",
       "      <td>2008-12-01</td>\n",
       "      <td>Albury</td>\n",
       "      <td>13.4</td>\n",
       "      <td>22.9</td>\n",
       "      <td>0.6</td>\n",
       "      <td>NaN</td>\n",
       "      <td>NaN</td>\n",
       "      <td>W</td>\n",
       "      <td>44.0</td>\n",
       "      <td>W</td>\n",
       "      <td>...</td>\n",
       "      <td>71.0</td>\n",
       "      <td>22.0</td>\n",
       "      <td>1007.7</td>\n",
       "      <td>1007.1</td>\n",
       "      <td>8.0</td>\n",
       "      <td>NaN</td>\n",
       "      <td>16.9</td>\n",
       "      <td>21.8</td>\n",
       "      <td>No</td>\n",
       "      <td>No</td>\n",
       "    </tr>\n",
       "    <tr>\n",
       "      <th>1</th>\n",
       "      <td>2008-12-02</td>\n",
       "      <td>Albury</td>\n",
       "      <td>7.4</td>\n",
       "      <td>25.1</td>\n",
       "      <td>0.0</td>\n",
       "      <td>NaN</td>\n",
       "      <td>NaN</td>\n",
       "      <td>WNW</td>\n",
       "      <td>44.0</td>\n",
       "      <td>NNW</td>\n",
       "      <td>...</td>\n",
       "      <td>44.0</td>\n",
       "      <td>25.0</td>\n",
       "      <td>1010.6</td>\n",
       "      <td>1007.8</td>\n",
       "      <td>NaN</td>\n",
       "      <td>NaN</td>\n",
       "      <td>17.2</td>\n",
       "      <td>24.3</td>\n",
       "      <td>No</td>\n",
       "      <td>No</td>\n",
       "    </tr>\n",
       "    <tr>\n",
       "      <th>2</th>\n",
       "      <td>2008-12-03</td>\n",
       "      <td>Albury</td>\n",
       "      <td>12.9</td>\n",
       "      <td>25.7</td>\n",
       "      <td>0.0</td>\n",
       "      <td>NaN</td>\n",
       "      <td>NaN</td>\n",
       "      <td>WSW</td>\n",
       "      <td>46.0</td>\n",
       "      <td>W</td>\n",
       "      <td>...</td>\n",
       "      <td>38.0</td>\n",
       "      <td>30.0</td>\n",
       "      <td>1007.6</td>\n",
       "      <td>1008.7</td>\n",
       "      <td>NaN</td>\n",
       "      <td>2.0</td>\n",
       "      <td>21.0</td>\n",
       "      <td>23.2</td>\n",
       "      <td>No</td>\n",
       "      <td>No</td>\n",
       "    </tr>\n",
       "    <tr>\n",
       "      <th>3</th>\n",
       "      <td>2008-12-04</td>\n",
       "      <td>Albury</td>\n",
       "      <td>9.2</td>\n",
       "      <td>28.0</td>\n",
       "      <td>0.0</td>\n",
       "      <td>NaN</td>\n",
       "      <td>NaN</td>\n",
       "      <td>NE</td>\n",
       "      <td>24.0</td>\n",
       "      <td>SE</td>\n",
       "      <td>...</td>\n",
       "      <td>45.0</td>\n",
       "      <td>16.0</td>\n",
       "      <td>1017.6</td>\n",
       "      <td>1012.8</td>\n",
       "      <td>NaN</td>\n",
       "      <td>NaN</td>\n",
       "      <td>18.1</td>\n",
       "      <td>26.5</td>\n",
       "      <td>No</td>\n",
       "      <td>No</td>\n",
       "    </tr>\n",
       "    <tr>\n",
       "      <th>4</th>\n",
       "      <td>2008-12-05</td>\n",
       "      <td>Albury</td>\n",
       "      <td>17.5</td>\n",
       "      <td>32.3</td>\n",
       "      <td>1.0</td>\n",
       "      <td>NaN</td>\n",
       "      <td>NaN</td>\n",
       "      <td>W</td>\n",
       "      <td>41.0</td>\n",
       "      <td>ENE</td>\n",
       "      <td>...</td>\n",
       "      <td>82.0</td>\n",
       "      <td>33.0</td>\n",
       "      <td>1010.8</td>\n",
       "      <td>1006.0</td>\n",
       "      <td>7.0</td>\n",
       "      <td>8.0</td>\n",
       "      <td>17.8</td>\n",
       "      <td>29.7</td>\n",
       "      <td>No</td>\n",
       "      <td>No</td>\n",
       "    </tr>\n",
       "  </tbody>\n",
       "</table>\n",
       "<p>5 rows × 23 columns</p>\n",
       "</div>"
      ],
      "text/plain": [
       "         Date Location  MinTemp  MaxTemp  Rainfall  Evaporation  Sunshine  \\\n",
       "0  2008-12-01   Albury     13.4     22.9       0.6          NaN       NaN   \n",
       "1  2008-12-02   Albury      7.4     25.1       0.0          NaN       NaN   \n",
       "2  2008-12-03   Albury     12.9     25.7       0.0          NaN       NaN   \n",
       "3  2008-12-04   Albury      9.2     28.0       0.0          NaN       NaN   \n",
       "4  2008-12-05   Albury     17.5     32.3       1.0          NaN       NaN   \n",
       "\n",
       "  WindGustDir  WindGustSpeed WindDir9am  ... Humidity9am  Humidity3pm  \\\n",
       "0           W           44.0          W  ...        71.0         22.0   \n",
       "1         WNW           44.0        NNW  ...        44.0         25.0   \n",
       "2         WSW           46.0          W  ...        38.0         30.0   \n",
       "3          NE           24.0         SE  ...        45.0         16.0   \n",
       "4           W           41.0        ENE  ...        82.0         33.0   \n",
       "\n",
       "   Pressure9am  Pressure3pm  Cloud9am  Cloud3pm  Temp9am  Temp3pm  RainToday  \\\n",
       "0       1007.7       1007.1       8.0       NaN     16.9     21.8         No   \n",
       "1       1010.6       1007.8       NaN       NaN     17.2     24.3         No   \n",
       "2       1007.6       1008.7       NaN       2.0     21.0     23.2         No   \n",
       "3       1017.6       1012.8       NaN       NaN     18.1     26.5         No   \n",
       "4       1010.8       1006.0       7.0       8.0     17.8     29.7         No   \n",
       "\n",
       "   RainTomorrow  \n",
       "0            No  \n",
       "1            No  \n",
       "2            No  \n",
       "3            No  \n",
       "4            No  \n",
       "\n",
       "[5 rows x 23 columns]"
      ]
     },
     "execution_count": 32,
     "metadata": {},
     "output_type": "execute_result"
    }
   ],
   "source": [
    "data = pd.read_csv(r'C:\\Users\\97254\\OneDrive\\מסמכים\\recs_Amit\\class\\weatherAUS.csv')\n",
    "data.head()"
   ]
  },
  {
   "cell_type": "code",
   "execution_count": 33,
   "metadata": {},
   "outputs": [
    {
     "data": {
      "text/plain": [
       "(145460, 23)"
      ]
     },
     "execution_count": 33,
     "metadata": {},
     "output_type": "execute_result"
    }
   ],
   "source": [
    "data.shape"
   ]
  },
  {
   "cell_type": "code",
   "execution_count": 34,
   "metadata": {},
   "outputs": [
    {
     "name": "stdout",
     "output_type": "stream",
     "text": [
      "<class 'pandas.core.frame.DataFrame'>\n",
      "RangeIndex: 145460 entries, 0 to 145459\n",
      "Data columns (total 23 columns):\n",
      " #   Column         Non-Null Count   Dtype  \n",
      "---  ------         --------------   -----  \n",
      " 0   Date           145460 non-null  object \n",
      " 1   Location       145460 non-null  object \n",
      " 2   MinTemp        143975 non-null  float64\n",
      " 3   MaxTemp        144199 non-null  float64\n",
      " 4   Rainfall       142199 non-null  float64\n",
      " 5   Evaporation    82670 non-null   float64\n",
      " 6   Sunshine       75625 non-null   float64\n",
      " 7   WindGustDir    135134 non-null  object \n",
      " 8   WindGustSpeed  135197 non-null  float64\n",
      " 9   WindDir9am     134894 non-null  object \n",
      " 10  WindDir3pm     141232 non-null  object \n",
      " 11  WindSpeed9am   143693 non-null  float64\n",
      " 12  WindSpeed3pm   142398 non-null  float64\n",
      " 13  Humidity9am    142806 non-null  float64\n",
      " 14  Humidity3pm    140953 non-null  float64\n",
      " 15  Pressure9am    130395 non-null  float64\n",
      " 16  Pressure3pm    130432 non-null  float64\n",
      " 17  Cloud9am       89572 non-null   float64\n",
      " 18  Cloud3pm       86102 non-null   float64\n",
      " 19  Temp9am        143693 non-null  float64\n",
      " 20  Temp3pm        141851 non-null  float64\n",
      " 21  RainToday      142199 non-null  object \n",
      " 22  RainTomorrow   142193 non-null  object \n",
      "dtypes: float64(16), object(7)\n",
      "memory usage: 25.5+ MB\n"
     ]
    }
   ],
   "source": [
    "data.info()"
   ]
  },
  {
   "cell_type": "code",
   "execution_count": 35,
   "metadata": {},
   "outputs": [
    {
     "data": {
      "text/plain": [
       "(145460, 23)"
      ]
     },
     "execution_count": 35,
     "metadata": {},
     "output_type": "execute_result"
    }
   ],
   "source": [
    "data.drop_duplicates(inplace=True)\n",
    "data.shape"
   ]
  },
  {
   "cell_type": "code",
   "execution_count": 36,
   "metadata": {},
   "outputs": [
    {
     "data": {
      "text/html": [
       "<div>\n",
       "<style scoped>\n",
       "    .dataframe tbody tr th:only-of-type {\n",
       "        vertical-align: middle;\n",
       "    }\n",
       "\n",
       "    .dataframe tbody tr th {\n",
       "        vertical-align: top;\n",
       "    }\n",
       "\n",
       "    .dataframe thead th {\n",
       "        text-align: right;\n",
       "    }\n",
       "</style>\n",
       "<table border=\"1\" class=\"dataframe\">\n",
       "  <thead>\n",
       "    <tr style=\"text-align: right;\">\n",
       "      <th></th>\n",
       "      <th>Date</th>\n",
       "      <th>Location</th>\n",
       "      <th>MinTemp</th>\n",
       "      <th>MaxTemp</th>\n",
       "      <th>Rainfall</th>\n",
       "      <th>Evaporation</th>\n",
       "      <th>Sunshine</th>\n",
       "      <th>WindGustDir</th>\n",
       "      <th>WindGustSpeed</th>\n",
       "      <th>WindDir9am</th>\n",
       "      <th>...</th>\n",
       "      <th>Humidity9am</th>\n",
       "      <th>Humidity3pm</th>\n",
       "      <th>Pressure9am</th>\n",
       "      <th>Pressure3pm</th>\n",
       "      <th>Cloud9am</th>\n",
       "      <th>Cloud3pm</th>\n",
       "      <th>Temp9am</th>\n",
       "      <th>Temp3pm</th>\n",
       "      <th>RainToday</th>\n",
       "      <th>RainTomorrow</th>\n",
       "    </tr>\n",
       "  </thead>\n",
       "  <tbody>\n",
       "    <tr>\n",
       "      <th>30176</th>\n",
       "      <td>2008-02-01</td>\n",
       "      <td>Sydney</td>\n",
       "      <td>19.5</td>\n",
       "      <td>22.4</td>\n",
       "      <td>15.6</td>\n",
       "      <td>6.2</td>\n",
       "      <td>0.0</td>\n",
       "      <td>NaN</td>\n",
       "      <td>NaN</td>\n",
       "      <td>S</td>\n",
       "      <td>...</td>\n",
       "      <td>92.0</td>\n",
       "      <td>84.0</td>\n",
       "      <td>1017.6</td>\n",
       "      <td>1017.4</td>\n",
       "      <td>8.0</td>\n",
       "      <td>8.0</td>\n",
       "      <td>20.7</td>\n",
       "      <td>20.9</td>\n",
       "      <td>Yes</td>\n",
       "      <td>Yes</td>\n",
       "    </tr>\n",
       "    <tr>\n",
       "      <th>30177</th>\n",
       "      <td>2008-02-02</td>\n",
       "      <td>Sydney</td>\n",
       "      <td>19.5</td>\n",
       "      <td>25.6</td>\n",
       "      <td>6.0</td>\n",
       "      <td>3.4</td>\n",
       "      <td>2.7</td>\n",
       "      <td>NaN</td>\n",
       "      <td>NaN</td>\n",
       "      <td>W</td>\n",
       "      <td>...</td>\n",
       "      <td>83.0</td>\n",
       "      <td>73.0</td>\n",
       "      <td>1017.9</td>\n",
       "      <td>1016.4</td>\n",
       "      <td>7.0</td>\n",
       "      <td>7.0</td>\n",
       "      <td>22.4</td>\n",
       "      <td>24.8</td>\n",
       "      <td>Yes</td>\n",
       "      <td>Yes</td>\n",
       "    </tr>\n",
       "    <tr>\n",
       "      <th>30178</th>\n",
       "      <td>2008-02-03</td>\n",
       "      <td>Sydney</td>\n",
       "      <td>21.6</td>\n",
       "      <td>24.5</td>\n",
       "      <td>6.6</td>\n",
       "      <td>2.4</td>\n",
       "      <td>0.1</td>\n",
       "      <td>NaN</td>\n",
       "      <td>NaN</td>\n",
       "      <td>ESE</td>\n",
       "      <td>...</td>\n",
       "      <td>88.0</td>\n",
       "      <td>86.0</td>\n",
       "      <td>1016.7</td>\n",
       "      <td>1015.6</td>\n",
       "      <td>7.0</td>\n",
       "      <td>8.0</td>\n",
       "      <td>23.5</td>\n",
       "      <td>23.0</td>\n",
       "      <td>Yes</td>\n",
       "      <td>Yes</td>\n",
       "    </tr>\n",
       "    <tr>\n",
       "      <th>30179</th>\n",
       "      <td>2008-02-04</td>\n",
       "      <td>Sydney</td>\n",
       "      <td>20.2</td>\n",
       "      <td>22.8</td>\n",
       "      <td>18.8</td>\n",
       "      <td>2.2</td>\n",
       "      <td>0.0</td>\n",
       "      <td>NaN</td>\n",
       "      <td>NaN</td>\n",
       "      <td>NNE</td>\n",
       "      <td>...</td>\n",
       "      <td>83.0</td>\n",
       "      <td>90.0</td>\n",
       "      <td>1014.2</td>\n",
       "      <td>1011.8</td>\n",
       "      <td>8.0</td>\n",
       "      <td>8.0</td>\n",
       "      <td>21.4</td>\n",
       "      <td>20.9</td>\n",
       "      <td>Yes</td>\n",
       "      <td>Yes</td>\n",
       "    </tr>\n",
       "    <tr>\n",
       "      <th>30180</th>\n",
       "      <td>2008-02-05</td>\n",
       "      <td>Sydney</td>\n",
       "      <td>19.7</td>\n",
       "      <td>25.7</td>\n",
       "      <td>77.4</td>\n",
       "      <td>NaN</td>\n",
       "      <td>0.0</td>\n",
       "      <td>NaN</td>\n",
       "      <td>NaN</td>\n",
       "      <td>NNE</td>\n",
       "      <td>...</td>\n",
       "      <td>88.0</td>\n",
       "      <td>74.0</td>\n",
       "      <td>1008.3</td>\n",
       "      <td>1004.8</td>\n",
       "      <td>8.0</td>\n",
       "      <td>8.0</td>\n",
       "      <td>22.5</td>\n",
       "      <td>25.5</td>\n",
       "      <td>Yes</td>\n",
       "      <td>Yes</td>\n",
       "    </tr>\n",
       "  </tbody>\n",
       "</table>\n",
       "<p>5 rows × 23 columns</p>\n",
       "</div>"
      ],
      "text/plain": [
       "             Date Location  MinTemp  MaxTemp  Rainfall  Evaporation  Sunshine  \\\n",
       "30176  2008-02-01   Sydney     19.5     22.4      15.6          6.2       0.0   \n",
       "30177  2008-02-02   Sydney     19.5     25.6       6.0          3.4       2.7   \n",
       "30178  2008-02-03   Sydney     21.6     24.5       6.6          2.4       0.1   \n",
       "30179  2008-02-04   Sydney     20.2     22.8      18.8          2.2       0.0   \n",
       "30180  2008-02-05   Sydney     19.7     25.7      77.4          NaN       0.0   \n",
       "\n",
       "      WindGustDir  WindGustSpeed WindDir9am  ... Humidity9am  Humidity3pm  \\\n",
       "30176         NaN            NaN          S  ...        92.0         84.0   \n",
       "30177         NaN            NaN          W  ...        83.0         73.0   \n",
       "30178         NaN            NaN        ESE  ...        88.0         86.0   \n",
       "30179         NaN            NaN        NNE  ...        83.0         90.0   \n",
       "30180         NaN            NaN        NNE  ...        88.0         74.0   \n",
       "\n",
       "       Pressure9am  Pressure3pm  Cloud9am  Cloud3pm  Temp9am  Temp3pm  \\\n",
       "30176       1017.6       1017.4       8.0       8.0     20.7     20.9   \n",
       "30177       1017.9       1016.4       7.0       7.0     22.4     24.8   \n",
       "30178       1016.7       1015.6       7.0       8.0     23.5     23.0   \n",
       "30179       1014.2       1011.8       8.0       8.0     21.4     20.9   \n",
       "30180       1008.3       1004.8       8.0       8.0     22.5     25.5   \n",
       "\n",
       "       RainToday  RainTomorrow  \n",
       "30176        Yes           Yes  \n",
       "30177        Yes           Yes  \n",
       "30178        Yes           Yes  \n",
       "30179        Yes           Yes  \n",
       "30180        Yes           Yes  \n",
       "\n",
       "[5 rows x 23 columns]"
      ]
     },
     "execution_count": 36,
     "metadata": {},
     "output_type": "execute_result"
    }
   ],
   "source": [
    "sdn = data[data.Location == 'Sydney']\n",
    "sdn.head()"
   ]
  },
  {
   "cell_type": "code",
   "execution_count": 37,
   "metadata": {},
   "outputs": [
    {
     "name": "stdout",
     "output_type": "stream",
     "text": [
      "<class 'pandas.core.frame.DataFrame'>\n",
      "Int64Index: 3344 entries, 30176 to 33519\n",
      "Data columns (total 23 columns):\n",
      " #   Column         Non-Null Count  Dtype  \n",
      "---  ------         --------------  -----  \n",
      " 0   Date           3344 non-null   object \n",
      " 1   Location       3344 non-null   object \n",
      " 2   MinTemp        3340 non-null   float64\n",
      " 3   MaxTemp        3342 non-null   float64\n",
      " 4   Rainfall       3337 non-null   float64\n",
      " 5   Evaporation    3293 non-null   float64\n",
      " 6   Sunshine       3328 non-null   float64\n",
      " 7   WindGustDir    2306 non-null   object \n",
      " 8   WindGustSpeed  2306 non-null   float64\n",
      " 9   WindDir9am     3288 non-null   object \n",
      " 10  WindDir3pm     3311 non-null   object \n",
      " 11  WindSpeed9am   3318 non-null   float64\n",
      " 12  WindSpeed3pm   3319 non-null   float64\n",
      " 13  Humidity9am    3329 non-null   float64\n",
      " 14  Humidity3pm    3331 non-null   float64\n",
      " 15  Pressure9am    3323 non-null   float64\n",
      " 16  Pressure3pm    3325 non-null   float64\n",
      " 17  Cloud9am       2776 non-null   float64\n",
      " 18  Cloud3pm       2781 non-null   float64\n",
      " 19  Temp9am        3339 non-null   float64\n",
      " 20  Temp3pm        3340 non-null   float64\n",
      " 21  RainToday      3337 non-null   object \n",
      " 22  RainTomorrow   3337 non-null   object \n",
      "dtypes: float64(16), object(7)\n",
      "memory usage: 627.0+ KB\n"
     ]
    }
   ],
   "source": [
    "sdn.info()"
   ]
  },
  {
   "cell_type": "code",
   "execution_count": 38,
   "metadata": {},
   "outputs": [
    {
     "data": {
      "text/plain": [
       "Date                0\n",
       "Location            0\n",
       "MinTemp             4\n",
       "MaxTemp             2\n",
       "Rainfall            7\n",
       "Evaporation        51\n",
       "Sunshine           16\n",
       "WindGustDir      1038\n",
       "WindGustSpeed    1038\n",
       "WindDir9am         56\n",
       "WindDir3pm         33\n",
       "WindSpeed9am       26\n",
       "WindSpeed3pm       25\n",
       "Humidity9am        15\n",
       "Humidity3pm        13\n",
       "Pressure9am        21\n",
       "Pressure3pm        19\n",
       "Cloud9am          568\n",
       "Cloud3pm          563\n",
       "Temp9am             5\n",
       "Temp3pm             4\n",
       "RainToday           7\n",
       "RainTomorrow        7\n",
       "dtype: int64"
      ]
     },
     "execution_count": 38,
     "metadata": {},
     "output_type": "execute_result"
    }
   ],
   "source": [
    "sdn.isnull().sum()"
   ]
  },
  {
   "cell_type": "code",
   "execution_count": 39,
   "metadata": {},
   "outputs": [],
   "source": []
  },
  {
   "cell_type": "markdown",
   "metadata": {},
   "source": [
    "#### I want to simplify the data more, so I will calculate average value of any XXX9am and XXX3pm"
   ]
  },
  {
   "cell_type": "markdown",
   "metadata": {},
   "source": [
    "#### for romoving we will fill Nan with most common value of yhe column"
   ]
  },
  {
   "cell_type": "code",
   "execution_count": 50,
   "metadata": {},
   "outputs": [],
   "source": [
    "sdn['WindSpeed9am'].fillna(value=sdn['WindSpeed9am'].mode()[0],inplace=True )\n"
   ]
  },
  {
   "cell_type": "code",
   "execution_count": 51,
   "metadata": {},
   "outputs": [],
   "source": [
    "sdn['WindSpeed3pm'].fillna(value=sdn['WindSpeed3pm'].mode()[0],inplace=True )\n",
    "sdn['WindDir9am'].fillna(value=sdn['WindDir9am'].mode()[0],inplace=True )\n",
    "sdn['WindDir3pm'].fillna(value=sdn['WindDir3pm'].mode()[0],inplace=True )\n",
    "sdn['Humidity9am'].fillna(value=sdn['Humidity9am'].mode()[0],inplace=True )\n",
    "sdn['Humidity3pm'].fillna(value=sdn['Humidity3pm'].mode()[0],inplace=True )\n",
    "sdn['Pressure9am'].fillna(value=sdn['Pressure9am'].mode()[0],inplace=True )\n",
    "sdn['Pressure3pm'].fillna(value=sdn['Pressure3pm'].mode()[0],inplace=True )\n",
    "sdn['Cloud9am'].fillna(value=sdn['Cloud9am'].mode()[0],inplace=True )\n",
    "sdn['Cloud3pm'].fillna(value=sdn['Cloud3pm'].mode()[0],inplace=True )\n",
    "sdn['Temp9am'].fillna(value=sdn['Temp9am'].mode()[0],inplace=True )\n",
    "sdn['Temp3pm'].fillna(value=sdn['Temp3pm'].mode()[0],inplace=True )\n",
    "\n"
   ]
  },
  {
   "cell_type": "code",
   "execution_count": 52,
   "metadata": {},
   "outputs": [
    {
     "data": {
      "text/plain": [
       "Date                0\n",
       "Location            0\n",
       "MinTemp             4\n",
       "MaxTemp             2\n",
       "Rainfall            7\n",
       "Evaporation        51\n",
       "Sunshine           16\n",
       "WindGustDir      1038\n",
       "WindGustSpeed    1038\n",
       "WindDir9am          0\n",
       "WindDir3pm          0\n",
       "WindSpeed9am        0\n",
       "WindSpeed3pm        0\n",
       "Humidity9am         0\n",
       "Humidity3pm         0\n",
       "Pressure9am         0\n",
       "Pressure3pm         0\n",
       "Cloud9am            0\n",
       "Cloud3pm            0\n",
       "Temp9am             0\n",
       "Temp3pm             0\n",
       "RainToday           7\n",
       "RainTomorrow        7\n",
       "WindSpeed          26\n",
       "Humidity            0\n",
       "Pressure            0\n",
       "Cloud               0\n",
       "Temp                0\n",
       "dtype: int64"
      ]
     },
     "execution_count": 52,
     "metadata": {},
     "output_type": "execute_result"
    }
   ],
   "source": [
    "sdn.isnull().sum()"
   ]
  },
  {
   "cell_type": "code",
   "execution_count": 53,
   "metadata": {},
   "outputs": [
    {
     "name": "stderr",
     "output_type": "stream",
     "text": [
      "<ipython-input-53-aa42156c7a3e>:1: SettingWithCopyWarning: \n",
      "A value is trying to be set on a copy of a slice from a DataFrame.\n",
      "Try using .loc[row_indexer,col_indexer] = value instead\n",
      "\n",
      "See the caveats in the documentation: https://pandas.pydata.org/pandas-docs/stable/user_guide/indexing.html#returning-a-view-versus-a-copy\n",
      "  sdn['WindSpeed'] = (sdn['WindSpeed9am'] + sdn['WindSpeed3pm'])/2\n"
     ]
    }
   ],
   "source": [
    "sdn['WindSpeed'] = (sdn['WindSpeed9am'] + sdn['WindSpeed3pm'])/2"
   ]
  },
  {
   "cell_type": "code",
   "execution_count": 54,
   "metadata": {},
   "outputs": [
    {
     "name": "stderr",
     "output_type": "stream",
     "text": [
      "<ipython-input-54-3cee194fd84c>:1: SettingWithCopyWarning: \n",
      "A value is trying to be set on a copy of a slice from a DataFrame.\n",
      "Try using .loc[row_indexer,col_indexer] = value instead\n",
      "\n",
      "See the caveats in the documentation: https://pandas.pydata.org/pandas-docs/stable/user_guide/indexing.html#returning-a-view-versus-a-copy\n",
      "  sdn['Humidity'] = (sdn['Humidity9am'] + sdn['Humidity3pm'])/2\n",
      "<ipython-input-54-3cee194fd84c>:2: SettingWithCopyWarning: \n",
      "A value is trying to be set on a copy of a slice from a DataFrame.\n",
      "Try using .loc[row_indexer,col_indexer] = value instead\n",
      "\n",
      "See the caveats in the documentation: https://pandas.pydata.org/pandas-docs/stable/user_guide/indexing.html#returning-a-view-versus-a-copy\n",
      "  sdn['Pressure'] = (sdn['Pressure9am'] + sdn['Pressure3pm'])/2\n",
      "<ipython-input-54-3cee194fd84c>:3: SettingWithCopyWarning: \n",
      "A value is trying to be set on a copy of a slice from a DataFrame.\n",
      "Try using .loc[row_indexer,col_indexer] = value instead\n",
      "\n",
      "See the caveats in the documentation: https://pandas.pydata.org/pandas-docs/stable/user_guide/indexing.html#returning-a-view-versus-a-copy\n",
      "  sdn['Cloud'] = (sdn['Cloud9am'] + sdn['Cloud3pm'])/2\n",
      "<ipython-input-54-3cee194fd84c>:4: SettingWithCopyWarning: \n",
      "A value is trying to be set on a copy of a slice from a DataFrame.\n",
      "Try using .loc[row_indexer,col_indexer] = value instead\n",
      "\n",
      "See the caveats in the documentation: https://pandas.pydata.org/pandas-docs/stable/user_guide/indexing.html#returning-a-view-versus-a-copy\n",
      "  sdn['Temp'] = (sdn['Temp9am'] + sdn['Temp3pm'])/2\n"
     ]
    }
   ],
   "source": [
    "sdn['Humidity'] = (sdn['Humidity9am'] + sdn['Humidity3pm'])/2\n",
    "sdn['Pressure'] = (sdn['Pressure9am'] + sdn['Pressure3pm'])/2\n",
    "sdn['Cloud'] = (sdn['Cloud9am'] + sdn['Cloud3pm'])/2\n",
    "sdn['Temp'] = (sdn['Temp9am'] + sdn['Temp3pm'])/2"
   ]
  },
  {
   "cell_type": "code",
   "execution_count": 56,
   "metadata": {},
   "outputs": [],
   "source": [
    "sdn = sdn.drop(['Humidity9am', 'Humidity3pm', 'Pressure3pm', 'Pressure9am', 'Cloud3pm', 'Cloud9am', 'Temp3pm', 'Temp9am'], axis=1)"
   ]
  },
  {
   "cell_type": "code",
   "execution_count": 57,
   "metadata": {},
   "outputs": [
    {
     "data": {
      "text/html": [
       "<div>\n",
       "<style scoped>\n",
       "    .dataframe tbody tr th:only-of-type {\n",
       "        vertical-align: middle;\n",
       "    }\n",
       "\n",
       "    .dataframe tbody tr th {\n",
       "        vertical-align: top;\n",
       "    }\n",
       "\n",
       "    .dataframe thead th {\n",
       "        text-align: right;\n",
       "    }\n",
       "</style>\n",
       "<table border=\"1\" class=\"dataframe\">\n",
       "  <thead>\n",
       "    <tr style=\"text-align: right;\">\n",
       "      <th></th>\n",
       "      <th>Date</th>\n",
       "      <th>Location</th>\n",
       "      <th>MinTemp</th>\n",
       "      <th>MaxTemp</th>\n",
       "      <th>Rainfall</th>\n",
       "      <th>Evaporation</th>\n",
       "      <th>Sunshine</th>\n",
       "      <th>WindGustDir</th>\n",
       "      <th>WindGustSpeed</th>\n",
       "      <th>WindDir9am</th>\n",
       "      <th>WindDir3pm</th>\n",
       "      <th>WindSpeed9am</th>\n",
       "      <th>WindSpeed3pm</th>\n",
       "      <th>RainToday</th>\n",
       "      <th>RainTomorrow</th>\n",
       "      <th>WindSpeed</th>\n",
       "      <th>Humidity</th>\n",
       "      <th>Pressure</th>\n",
       "      <th>Cloud</th>\n",
       "      <th>Temp</th>\n",
       "    </tr>\n",
       "  </thead>\n",
       "  <tbody>\n",
       "    <tr>\n",
       "      <th>30176</th>\n",
       "      <td>2008-02-01</td>\n",
       "      <td>Sydney</td>\n",
       "      <td>19.5</td>\n",
       "      <td>22.4</td>\n",
       "      <td>15.6</td>\n",
       "      <td>6.2</td>\n",
       "      <td>0.0</td>\n",
       "      <td>NaN</td>\n",
       "      <td>NaN</td>\n",
       "      <td>S</td>\n",
       "      <td>SSW</td>\n",
       "      <td>17.0</td>\n",
       "      <td>20.0</td>\n",
       "      <td>Yes</td>\n",
       "      <td>Yes</td>\n",
       "      <td>18.5</td>\n",
       "      <td>88.0</td>\n",
       "      <td>1017.50</td>\n",
       "      <td>8.0</td>\n",
       "      <td>20.80</td>\n",
       "    </tr>\n",
       "    <tr>\n",
       "      <th>30177</th>\n",
       "      <td>2008-02-02</td>\n",
       "      <td>Sydney</td>\n",
       "      <td>19.5</td>\n",
       "      <td>25.6</td>\n",
       "      <td>6.0</td>\n",
       "      <td>3.4</td>\n",
       "      <td>2.7</td>\n",
       "      <td>NaN</td>\n",
       "      <td>NaN</td>\n",
       "      <td>W</td>\n",
       "      <td>E</td>\n",
       "      <td>9.0</td>\n",
       "      <td>13.0</td>\n",
       "      <td>Yes</td>\n",
       "      <td>Yes</td>\n",
       "      <td>11.0</td>\n",
       "      <td>78.0</td>\n",
       "      <td>1017.15</td>\n",
       "      <td>7.0</td>\n",
       "      <td>23.60</td>\n",
       "    </tr>\n",
       "    <tr>\n",
       "      <th>30178</th>\n",
       "      <td>2008-02-03</td>\n",
       "      <td>Sydney</td>\n",
       "      <td>21.6</td>\n",
       "      <td>24.5</td>\n",
       "      <td>6.6</td>\n",
       "      <td>2.4</td>\n",
       "      <td>0.1</td>\n",
       "      <td>NaN</td>\n",
       "      <td>NaN</td>\n",
       "      <td>ESE</td>\n",
       "      <td>ESE</td>\n",
       "      <td>17.0</td>\n",
       "      <td>2.0</td>\n",
       "      <td>Yes</td>\n",
       "      <td>Yes</td>\n",
       "      <td>9.5</td>\n",
       "      <td>87.0</td>\n",
       "      <td>1016.15</td>\n",
       "      <td>7.5</td>\n",
       "      <td>23.25</td>\n",
       "    </tr>\n",
       "    <tr>\n",
       "      <th>30179</th>\n",
       "      <td>2008-02-04</td>\n",
       "      <td>Sydney</td>\n",
       "      <td>20.2</td>\n",
       "      <td>22.8</td>\n",
       "      <td>18.8</td>\n",
       "      <td>2.2</td>\n",
       "      <td>0.0</td>\n",
       "      <td>NaN</td>\n",
       "      <td>NaN</td>\n",
       "      <td>NNE</td>\n",
       "      <td>E</td>\n",
       "      <td>22.0</td>\n",
       "      <td>20.0</td>\n",
       "      <td>Yes</td>\n",
       "      <td>Yes</td>\n",
       "      <td>21.0</td>\n",
       "      <td>86.5</td>\n",
       "      <td>1013.00</td>\n",
       "      <td>8.0</td>\n",
       "      <td>21.15</td>\n",
       "    </tr>\n",
       "    <tr>\n",
       "      <th>30180</th>\n",
       "      <td>2008-02-05</td>\n",
       "      <td>Sydney</td>\n",
       "      <td>19.7</td>\n",
       "      <td>25.7</td>\n",
       "      <td>77.4</td>\n",
       "      <td>NaN</td>\n",
       "      <td>0.0</td>\n",
       "      <td>NaN</td>\n",
       "      <td>NaN</td>\n",
       "      <td>NNE</td>\n",
       "      <td>W</td>\n",
       "      <td>11.0</td>\n",
       "      <td>6.0</td>\n",
       "      <td>Yes</td>\n",
       "      <td>Yes</td>\n",
       "      <td>8.5</td>\n",
       "      <td>81.0</td>\n",
       "      <td>1006.55</td>\n",
       "      <td>8.0</td>\n",
       "      <td>24.00</td>\n",
       "    </tr>\n",
       "  </tbody>\n",
       "</table>\n",
       "</div>"
      ],
      "text/plain": [
       "             Date Location  MinTemp  MaxTemp  Rainfall  Evaporation  Sunshine  \\\n",
       "30176  2008-02-01   Sydney     19.5     22.4      15.6          6.2       0.0   \n",
       "30177  2008-02-02   Sydney     19.5     25.6       6.0          3.4       2.7   \n",
       "30178  2008-02-03   Sydney     21.6     24.5       6.6          2.4       0.1   \n",
       "30179  2008-02-04   Sydney     20.2     22.8      18.8          2.2       0.0   \n",
       "30180  2008-02-05   Sydney     19.7     25.7      77.4          NaN       0.0   \n",
       "\n",
       "      WindGustDir  WindGustSpeed WindDir9am WindDir3pm  WindSpeed9am  \\\n",
       "30176         NaN            NaN          S        SSW          17.0   \n",
       "30177         NaN            NaN          W          E           9.0   \n",
       "30178         NaN            NaN        ESE        ESE          17.0   \n",
       "30179         NaN            NaN        NNE          E          22.0   \n",
       "30180         NaN            NaN        NNE          W          11.0   \n",
       "\n",
       "       WindSpeed3pm RainToday RainTomorrow  WindSpeed  Humidity  Pressure  \\\n",
       "30176          20.0       Yes          Yes       18.5      88.0   1017.50   \n",
       "30177          13.0       Yes          Yes       11.0      78.0   1017.15   \n",
       "30178           2.0       Yes          Yes        9.5      87.0   1016.15   \n",
       "30179          20.0       Yes          Yes       21.0      86.5   1013.00   \n",
       "30180           6.0       Yes          Yes        8.5      81.0   1006.55   \n",
       "\n",
       "       Cloud   Temp  \n",
       "30176    8.0  20.80  \n",
       "30177    7.0  23.60  \n",
       "30178    7.5  23.25  \n",
       "30179    8.0  21.15  \n",
       "30180    8.0  24.00  "
      ]
     },
     "execution_count": 57,
     "metadata": {},
     "output_type": "execute_result"
    }
   ],
   "source": [
    "sdn.head()"
   ]
  },
  {
   "cell_type": "code",
   "execution_count": 58,
   "metadata": {},
   "outputs": [],
   "source": [
    "sdn = sdn.drop(['WindSpeed9am', 'WindSpeed3pm'], axis=1)"
   ]
  },
  {
   "cell_type": "markdown",
   "metadata": {},
   "source": [
    "#### We have temp average so we can remove Min\\maxTemp columns"
   ]
  },
  {
   "cell_type": "code",
   "execution_count": 59,
   "metadata": {},
   "outputs": [],
   "source": [
    "sdn = sdn.drop(['MinTemp', 'MaxTemp'], axis=1)"
   ]
  },
  {
   "cell_type": "code",
   "execution_count": 61,
   "metadata": {},
   "outputs": [
    {
     "data": {
      "text/html": [
       "<div>\n",
       "<style scoped>\n",
       "    .dataframe tbody tr th:only-of-type {\n",
       "        vertical-align: middle;\n",
       "    }\n",
       "\n",
       "    .dataframe tbody tr th {\n",
       "        vertical-align: top;\n",
       "    }\n",
       "\n",
       "    .dataframe thead th {\n",
       "        text-align: right;\n",
       "    }\n",
       "</style>\n",
       "<table border=\"1\" class=\"dataframe\">\n",
       "  <thead>\n",
       "    <tr style=\"text-align: right;\">\n",
       "      <th></th>\n",
       "      <th>Date</th>\n",
       "      <th>Location</th>\n",
       "      <th>Rainfall</th>\n",
       "      <th>Evaporation</th>\n",
       "      <th>Sunshine</th>\n",
       "      <th>WindGustDir</th>\n",
       "      <th>WindGustSpeed</th>\n",
       "      <th>WindDir9am</th>\n",
       "      <th>WindDir3pm</th>\n",
       "      <th>RainToday</th>\n",
       "      <th>RainTomorrow</th>\n",
       "      <th>WindSpeed</th>\n",
       "      <th>Humidity</th>\n",
       "      <th>Pressure</th>\n",
       "      <th>Cloud</th>\n",
       "      <th>Temp</th>\n",
       "    </tr>\n",
       "  </thead>\n",
       "  <tbody>\n",
       "    <tr>\n",
       "      <th>30176</th>\n",
       "      <td>2008-02-01</td>\n",
       "      <td>Sydney</td>\n",
       "      <td>15.6</td>\n",
       "      <td>6.2</td>\n",
       "      <td>0.0</td>\n",
       "      <td>NaN</td>\n",
       "      <td>NaN</td>\n",
       "      <td>S</td>\n",
       "      <td>SSW</td>\n",
       "      <td>Yes</td>\n",
       "      <td>Yes</td>\n",
       "      <td>18.5</td>\n",
       "      <td>88.0</td>\n",
       "      <td>1017.50</td>\n",
       "      <td>8.0</td>\n",
       "      <td>20.80</td>\n",
       "    </tr>\n",
       "    <tr>\n",
       "      <th>30177</th>\n",
       "      <td>2008-02-02</td>\n",
       "      <td>Sydney</td>\n",
       "      <td>6.0</td>\n",
       "      <td>3.4</td>\n",
       "      <td>2.7</td>\n",
       "      <td>NaN</td>\n",
       "      <td>NaN</td>\n",
       "      <td>W</td>\n",
       "      <td>E</td>\n",
       "      <td>Yes</td>\n",
       "      <td>Yes</td>\n",
       "      <td>11.0</td>\n",
       "      <td>78.0</td>\n",
       "      <td>1017.15</td>\n",
       "      <td>7.0</td>\n",
       "      <td>23.60</td>\n",
       "    </tr>\n",
       "    <tr>\n",
       "      <th>30178</th>\n",
       "      <td>2008-02-03</td>\n",
       "      <td>Sydney</td>\n",
       "      <td>6.6</td>\n",
       "      <td>2.4</td>\n",
       "      <td>0.1</td>\n",
       "      <td>NaN</td>\n",
       "      <td>NaN</td>\n",
       "      <td>ESE</td>\n",
       "      <td>ESE</td>\n",
       "      <td>Yes</td>\n",
       "      <td>Yes</td>\n",
       "      <td>9.5</td>\n",
       "      <td>87.0</td>\n",
       "      <td>1016.15</td>\n",
       "      <td>7.5</td>\n",
       "      <td>23.25</td>\n",
       "    </tr>\n",
       "    <tr>\n",
       "      <th>30179</th>\n",
       "      <td>2008-02-04</td>\n",
       "      <td>Sydney</td>\n",
       "      <td>18.8</td>\n",
       "      <td>2.2</td>\n",
       "      <td>0.0</td>\n",
       "      <td>NaN</td>\n",
       "      <td>NaN</td>\n",
       "      <td>NNE</td>\n",
       "      <td>E</td>\n",
       "      <td>Yes</td>\n",
       "      <td>Yes</td>\n",
       "      <td>21.0</td>\n",
       "      <td>86.5</td>\n",
       "      <td>1013.00</td>\n",
       "      <td>8.0</td>\n",
       "      <td>21.15</td>\n",
       "    </tr>\n",
       "    <tr>\n",
       "      <th>30180</th>\n",
       "      <td>2008-02-05</td>\n",
       "      <td>Sydney</td>\n",
       "      <td>77.4</td>\n",
       "      <td>NaN</td>\n",
       "      <td>0.0</td>\n",
       "      <td>NaN</td>\n",
       "      <td>NaN</td>\n",
       "      <td>NNE</td>\n",
       "      <td>W</td>\n",
       "      <td>Yes</td>\n",
       "      <td>Yes</td>\n",
       "      <td>8.5</td>\n",
       "      <td>81.0</td>\n",
       "      <td>1006.55</td>\n",
       "      <td>8.0</td>\n",
       "      <td>24.00</td>\n",
       "    </tr>\n",
       "  </tbody>\n",
       "</table>\n",
       "</div>"
      ],
      "text/plain": [
       "             Date Location  Rainfall  Evaporation  Sunshine WindGustDir  \\\n",
       "30176  2008-02-01   Sydney      15.6          6.2       0.0         NaN   \n",
       "30177  2008-02-02   Sydney       6.0          3.4       2.7         NaN   \n",
       "30178  2008-02-03   Sydney       6.6          2.4       0.1         NaN   \n",
       "30179  2008-02-04   Sydney      18.8          2.2       0.0         NaN   \n",
       "30180  2008-02-05   Sydney      77.4          NaN       0.0         NaN   \n",
       "\n",
       "       WindGustSpeed WindDir9am WindDir3pm RainToday RainTomorrow  WindSpeed  \\\n",
       "30176            NaN          S        SSW       Yes          Yes       18.5   \n",
       "30177            NaN          W          E       Yes          Yes       11.0   \n",
       "30178            NaN        ESE        ESE       Yes          Yes        9.5   \n",
       "30179            NaN        NNE          E       Yes          Yes       21.0   \n",
       "30180            NaN        NNE          W       Yes          Yes        8.5   \n",
       "\n",
       "       Humidity  Pressure  Cloud   Temp  \n",
       "30176      88.0   1017.50    8.0  20.80  \n",
       "30177      78.0   1017.15    7.0  23.60  \n",
       "30178      87.0   1016.15    7.5  23.25  \n",
       "30179      86.5   1013.00    8.0  21.15  \n",
       "30180      81.0   1006.55    8.0  24.00  "
      ]
     },
     "execution_count": 61,
     "metadata": {},
     "output_type": "execute_result"
    }
   ],
   "source": [
    "sdn.head()"
   ]
  },
  {
   "cell_type": "code",
   "execution_count": 62,
   "metadata": {},
   "outputs": [],
   "source": [
    "sdn.sort_values(by=['Date'])\n",
    "sdn = sdn.drop(['Location'], axis=1)"
   ]
  },
  {
   "cell_type": "code",
   "execution_count": 63,
   "metadata": {},
   "outputs": [],
   "source": [
    "sdn['RainToday'].fillna(value=sdn['RainToday'].mode()[0],inplace=True )\n",
    "sdn['RainTomorrow'].fillna(value=sdn['RainTomorrow'].mode()[0],inplace=True )"
   ]
  },
  {
   "cell_type": "code",
   "execution_count": 64,
   "metadata": {},
   "outputs": [
    {
     "data": {
      "text/plain": [
       "Date                0\n",
       "Rainfall            7\n",
       "Evaporation        51\n",
       "Sunshine           16\n",
       "WindGustDir      1038\n",
       "WindGustSpeed    1038\n",
       "WindDir9am          0\n",
       "WindDir3pm          0\n",
       "RainToday           0\n",
       "RainTomorrow        0\n",
       "WindSpeed           0\n",
       "Humidity            0\n",
       "Pressure            0\n",
       "Cloud               0\n",
       "Temp                0\n",
       "dtype: int64"
      ]
     },
     "execution_count": 64,
     "metadata": {},
     "output_type": "execute_result"
    }
   ],
   "source": [
    "sdn.isnull().sum()"
   ]
  },
  {
   "cell_type": "code",
   "execution_count": 65,
   "metadata": {},
   "outputs": [],
   "source": [
    "sdn['Date'] = pd.to_datetime(sdn['Date'])\n",
    "sdn['Year'] = sdn['Date'].dt.year\n",
    "sdn['Month'] = sdn['Date'].dt.month\n",
    "sdn['Day'] = sdn['Date'].dt.day\n",
    "\n",
    "sdn = sdn.drop(columns='Date')"
   ]
  },
  {
   "cell_type": "code",
   "execution_count": 66,
   "metadata": {},
   "outputs": [
    {
     "data": {
      "text/plain": [
       "Rainfall            7\n",
       "Evaporation        51\n",
       "Sunshine           16\n",
       "WindGustDir      1038\n",
       "WindGustSpeed    1038\n",
       "WindDir9am          0\n",
       "WindDir3pm          0\n",
       "RainToday           0\n",
       "RainTomorrow        0\n",
       "WindSpeed           0\n",
       "Humidity            0\n",
       "Pressure            0\n",
       "Cloud               0\n",
       "Temp                0\n",
       "Year                0\n",
       "Month               0\n",
       "Day                 0\n",
       "dtype: int64"
      ]
     },
     "execution_count": 66,
     "metadata": {},
     "output_type": "execute_result"
    }
   ],
   "source": [
    "sdn.isnull().sum()"
   ]
  },
  {
   "cell_type": "code",
   "execution_count": 67,
   "metadata": {},
   "outputs": [
    {
     "data": {
      "text/html": [
       "<div>\n",
       "<style scoped>\n",
       "    .dataframe tbody tr th:only-of-type {\n",
       "        vertical-align: middle;\n",
       "    }\n",
       "\n",
       "    .dataframe tbody tr th {\n",
       "        vertical-align: top;\n",
       "    }\n",
       "\n",
       "    .dataframe thead th {\n",
       "        text-align: right;\n",
       "    }\n",
       "</style>\n",
       "<table border=\"1\" class=\"dataframe\">\n",
       "  <thead>\n",
       "    <tr style=\"text-align: right;\">\n",
       "      <th></th>\n",
       "      <th>Rainfall</th>\n",
       "      <th>Evaporation</th>\n",
       "      <th>Sunshine</th>\n",
       "      <th>WindGustDir</th>\n",
       "      <th>WindGustSpeed</th>\n",
       "      <th>WindDir9am</th>\n",
       "      <th>WindDir3pm</th>\n",
       "      <th>RainToday</th>\n",
       "      <th>RainTomorrow</th>\n",
       "      <th>WindSpeed</th>\n",
       "      <th>Humidity</th>\n",
       "      <th>Pressure</th>\n",
       "      <th>Cloud</th>\n",
       "      <th>Temp</th>\n",
       "      <th>Year</th>\n",
       "      <th>Month</th>\n",
       "      <th>Day</th>\n",
       "    </tr>\n",
       "  </thead>\n",
       "  <tbody>\n",
       "    <tr>\n",
       "      <th>30176</th>\n",
       "      <td>15.6</td>\n",
       "      <td>6.2</td>\n",
       "      <td>0.0</td>\n",
       "      <td>NaN</td>\n",
       "      <td>NaN</td>\n",
       "      <td>S</td>\n",
       "      <td>SSW</td>\n",
       "      <td>Yes</td>\n",
       "      <td>Yes</td>\n",
       "      <td>18.5</td>\n",
       "      <td>88.0</td>\n",
       "      <td>1017.50</td>\n",
       "      <td>8.0</td>\n",
       "      <td>20.80</td>\n",
       "      <td>2008</td>\n",
       "      <td>2</td>\n",
       "      <td>1</td>\n",
       "    </tr>\n",
       "    <tr>\n",
       "      <th>30177</th>\n",
       "      <td>6.0</td>\n",
       "      <td>3.4</td>\n",
       "      <td>2.7</td>\n",
       "      <td>NaN</td>\n",
       "      <td>NaN</td>\n",
       "      <td>W</td>\n",
       "      <td>E</td>\n",
       "      <td>Yes</td>\n",
       "      <td>Yes</td>\n",
       "      <td>11.0</td>\n",
       "      <td>78.0</td>\n",
       "      <td>1017.15</td>\n",
       "      <td>7.0</td>\n",
       "      <td>23.60</td>\n",
       "      <td>2008</td>\n",
       "      <td>2</td>\n",
       "      <td>2</td>\n",
       "    </tr>\n",
       "    <tr>\n",
       "      <th>30178</th>\n",
       "      <td>6.6</td>\n",
       "      <td>2.4</td>\n",
       "      <td>0.1</td>\n",
       "      <td>NaN</td>\n",
       "      <td>NaN</td>\n",
       "      <td>ESE</td>\n",
       "      <td>ESE</td>\n",
       "      <td>Yes</td>\n",
       "      <td>Yes</td>\n",
       "      <td>9.5</td>\n",
       "      <td>87.0</td>\n",
       "      <td>1016.15</td>\n",
       "      <td>7.5</td>\n",
       "      <td>23.25</td>\n",
       "      <td>2008</td>\n",
       "      <td>2</td>\n",
       "      <td>3</td>\n",
       "    </tr>\n",
       "    <tr>\n",
       "      <th>30179</th>\n",
       "      <td>18.8</td>\n",
       "      <td>2.2</td>\n",
       "      <td>0.0</td>\n",
       "      <td>NaN</td>\n",
       "      <td>NaN</td>\n",
       "      <td>NNE</td>\n",
       "      <td>E</td>\n",
       "      <td>Yes</td>\n",
       "      <td>Yes</td>\n",
       "      <td>21.0</td>\n",
       "      <td>86.5</td>\n",
       "      <td>1013.00</td>\n",
       "      <td>8.0</td>\n",
       "      <td>21.15</td>\n",
       "      <td>2008</td>\n",
       "      <td>2</td>\n",
       "      <td>4</td>\n",
       "    </tr>\n",
       "    <tr>\n",
       "      <th>30180</th>\n",
       "      <td>77.4</td>\n",
       "      <td>NaN</td>\n",
       "      <td>0.0</td>\n",
       "      <td>NaN</td>\n",
       "      <td>NaN</td>\n",
       "      <td>NNE</td>\n",
       "      <td>W</td>\n",
       "      <td>Yes</td>\n",
       "      <td>Yes</td>\n",
       "      <td>8.5</td>\n",
       "      <td>81.0</td>\n",
       "      <td>1006.55</td>\n",
       "      <td>8.0</td>\n",
       "      <td>24.00</td>\n",
       "      <td>2008</td>\n",
       "      <td>2</td>\n",
       "      <td>5</td>\n",
       "    </tr>\n",
       "  </tbody>\n",
       "</table>\n",
       "</div>"
      ],
      "text/plain": [
       "       Rainfall  Evaporation  Sunshine WindGustDir  WindGustSpeed WindDir9am  \\\n",
       "30176      15.6          6.2       0.0         NaN            NaN          S   \n",
       "30177       6.0          3.4       2.7         NaN            NaN          W   \n",
       "30178       6.6          2.4       0.1         NaN            NaN        ESE   \n",
       "30179      18.8          2.2       0.0         NaN            NaN        NNE   \n",
       "30180      77.4          NaN       0.0         NaN            NaN        NNE   \n",
       "\n",
       "      WindDir3pm RainToday RainTomorrow  WindSpeed  Humidity  Pressure  Cloud  \\\n",
       "30176        SSW       Yes          Yes       18.5      88.0   1017.50    8.0   \n",
       "30177          E       Yes          Yes       11.0      78.0   1017.15    7.0   \n",
       "30178        ESE       Yes          Yes        9.5      87.0   1016.15    7.5   \n",
       "30179          E       Yes          Yes       21.0      86.5   1013.00    8.0   \n",
       "30180          W       Yes          Yes        8.5      81.0   1006.55    8.0   \n",
       "\n",
       "        Temp  Year  Month  Day  \n",
       "30176  20.80  2008      2    1  \n",
       "30177  23.60  2008      2    2  \n",
       "30178  23.25  2008      2    3  \n",
       "30179  21.15  2008      2    4  \n",
       "30180  24.00  2008      2    5  "
      ]
     },
     "execution_count": 67,
     "metadata": {},
     "output_type": "execute_result"
    }
   ],
   "source": [
    "sdn.head()"
   ]
  },
  {
   "cell_type": "code",
   "execution_count": 68,
   "metadata": {},
   "outputs": [],
   "source": [
    "sdn['Evaporation'].fillna(value=sdn['Evaporation'].mode()[0],inplace=True )\n",
    "sdn['Rainfall'].fillna(value=sdn['Rainfall'].mode()[0],inplace=True )\n",
    "sdn['Sunshine'].fillna(value=sdn['Sunshine'].mode()[0],inplace=True )"
   ]
  },
  {
   "cell_type": "code",
   "execution_count": 69,
   "metadata": {},
   "outputs": [
    {
     "data": {
      "text/plain": [
       "Rainfall            0\n",
       "Evaporation         0\n",
       "Sunshine            0\n",
       "WindGustDir      1038\n",
       "WindGustSpeed    1038\n",
       "WindDir9am          0\n",
       "WindDir3pm          0\n",
       "RainToday           0\n",
       "RainTomorrow        0\n",
       "WindSpeed           0\n",
       "Humidity            0\n",
       "Pressure            0\n",
       "Cloud               0\n",
       "Temp                0\n",
       "Year                0\n",
       "Month               0\n",
       "Day                 0\n",
       "dtype: int64"
      ]
     },
     "execution_count": 69,
     "metadata": {},
     "output_type": "execute_result"
    }
   ],
   "source": [
    "sdn.isnull().sum()"
   ]
  },
  {
   "cell_type": "code",
   "execution_count": 70,
   "metadata": {},
   "outputs": [
    {
     "name": "stdout",
     "output_type": "stream",
     "text": [
      "<class 'pandas.core.frame.DataFrame'>\n",
      "Int64Index: 3344 entries, 30176 to 33519\n",
      "Data columns (total 17 columns):\n",
      " #   Column         Non-Null Count  Dtype  \n",
      "---  ------         --------------  -----  \n",
      " 0   Rainfall       3344 non-null   float64\n",
      " 1   Evaporation    3344 non-null   float64\n",
      " 2   Sunshine       3344 non-null   float64\n",
      " 3   WindGustDir    2306 non-null   object \n",
      " 4   WindGustSpeed  2306 non-null   float64\n",
      " 5   WindDir9am     3344 non-null   object \n",
      " 6   WindDir3pm     3344 non-null   object \n",
      " 7   RainToday      3344 non-null   object \n",
      " 8   RainTomorrow   3344 non-null   object \n",
      " 9   WindSpeed      3344 non-null   float64\n",
      " 10  Humidity       3344 non-null   float64\n",
      " 11  Pressure       3344 non-null   float64\n",
      " 12  Cloud          3344 non-null   float64\n",
      " 13  Temp           3344 non-null   float64\n",
      " 14  Year           3344 non-null   int64  \n",
      " 15  Month          3344 non-null   int64  \n",
      " 16  Day            3344 non-null   int64  \n",
      "dtypes: float64(9), int64(3), object(5)\n",
      "memory usage: 470.2+ KB\n"
     ]
    }
   ],
   "source": [
    "sdn.info()"
   ]
  },
  {
   "cell_type": "code",
   "execution_count": 71,
   "metadata": {},
   "outputs": [],
   "source": [
    "sdn = pd.get_dummies(sdn,columns=['RainToday'], drop_first=True)"
   ]
  },
  {
   "cell_type": "code",
   "execution_count": 72,
   "metadata": {},
   "outputs": [],
   "source": [
    "sdn = pd.get_dummies(sdn,columns=['RainTomorrow'], drop_first=True)"
   ]
  },
  {
   "cell_type": "code",
   "execution_count": 73,
   "metadata": {},
   "outputs": [
    {
     "data": {
      "text/html": [
       "<div>\n",
       "<style scoped>\n",
       "    .dataframe tbody tr th:only-of-type {\n",
       "        vertical-align: middle;\n",
       "    }\n",
       "\n",
       "    .dataframe tbody tr th {\n",
       "        vertical-align: top;\n",
       "    }\n",
       "\n",
       "    .dataframe thead th {\n",
       "        text-align: right;\n",
       "    }\n",
       "</style>\n",
       "<table border=\"1\" class=\"dataframe\">\n",
       "  <thead>\n",
       "    <tr style=\"text-align: right;\">\n",
       "      <th></th>\n",
       "      <th>Rainfall</th>\n",
       "      <th>Evaporation</th>\n",
       "      <th>Sunshine</th>\n",
       "      <th>WindGustDir</th>\n",
       "      <th>WindGustSpeed</th>\n",
       "      <th>WindDir9am</th>\n",
       "      <th>WindDir3pm</th>\n",
       "      <th>WindSpeed</th>\n",
       "      <th>Humidity</th>\n",
       "      <th>Pressure</th>\n",
       "      <th>Cloud</th>\n",
       "      <th>Temp</th>\n",
       "      <th>Year</th>\n",
       "      <th>Month</th>\n",
       "      <th>Day</th>\n",
       "      <th>RainToday_Yes</th>\n",
       "      <th>RainTomorrow_Yes</th>\n",
       "    </tr>\n",
       "  </thead>\n",
       "  <tbody>\n",
       "    <tr>\n",
       "      <th>30176</th>\n",
       "      <td>15.6</td>\n",
       "      <td>6.2</td>\n",
       "      <td>0.0</td>\n",
       "      <td>NaN</td>\n",
       "      <td>NaN</td>\n",
       "      <td>S</td>\n",
       "      <td>SSW</td>\n",
       "      <td>18.5</td>\n",
       "      <td>88.0</td>\n",
       "      <td>1017.50</td>\n",
       "      <td>8.0</td>\n",
       "      <td>20.80</td>\n",
       "      <td>2008</td>\n",
       "      <td>2</td>\n",
       "      <td>1</td>\n",
       "      <td>1</td>\n",
       "      <td>1</td>\n",
       "    </tr>\n",
       "    <tr>\n",
       "      <th>30177</th>\n",
       "      <td>6.0</td>\n",
       "      <td>3.4</td>\n",
       "      <td>2.7</td>\n",
       "      <td>NaN</td>\n",
       "      <td>NaN</td>\n",
       "      <td>W</td>\n",
       "      <td>E</td>\n",
       "      <td>11.0</td>\n",
       "      <td>78.0</td>\n",
       "      <td>1017.15</td>\n",
       "      <td>7.0</td>\n",
       "      <td>23.60</td>\n",
       "      <td>2008</td>\n",
       "      <td>2</td>\n",
       "      <td>2</td>\n",
       "      <td>1</td>\n",
       "      <td>1</td>\n",
       "    </tr>\n",
       "    <tr>\n",
       "      <th>30178</th>\n",
       "      <td>6.6</td>\n",
       "      <td>2.4</td>\n",
       "      <td>0.1</td>\n",
       "      <td>NaN</td>\n",
       "      <td>NaN</td>\n",
       "      <td>ESE</td>\n",
       "      <td>ESE</td>\n",
       "      <td>9.5</td>\n",
       "      <td>87.0</td>\n",
       "      <td>1016.15</td>\n",
       "      <td>7.5</td>\n",
       "      <td>23.25</td>\n",
       "      <td>2008</td>\n",
       "      <td>2</td>\n",
       "      <td>3</td>\n",
       "      <td>1</td>\n",
       "      <td>1</td>\n",
       "    </tr>\n",
       "    <tr>\n",
       "      <th>30179</th>\n",
       "      <td>18.8</td>\n",
       "      <td>2.2</td>\n",
       "      <td>0.0</td>\n",
       "      <td>NaN</td>\n",
       "      <td>NaN</td>\n",
       "      <td>NNE</td>\n",
       "      <td>E</td>\n",
       "      <td>21.0</td>\n",
       "      <td>86.5</td>\n",
       "      <td>1013.00</td>\n",
       "      <td>8.0</td>\n",
       "      <td>21.15</td>\n",
       "      <td>2008</td>\n",
       "      <td>2</td>\n",
       "      <td>4</td>\n",
       "      <td>1</td>\n",
       "      <td>1</td>\n",
       "    </tr>\n",
       "    <tr>\n",
       "      <th>30180</th>\n",
       "      <td>77.4</td>\n",
       "      <td>4.0</td>\n",
       "      <td>0.0</td>\n",
       "      <td>NaN</td>\n",
       "      <td>NaN</td>\n",
       "      <td>NNE</td>\n",
       "      <td>W</td>\n",
       "      <td>8.5</td>\n",
       "      <td>81.0</td>\n",
       "      <td>1006.55</td>\n",
       "      <td>8.0</td>\n",
       "      <td>24.00</td>\n",
       "      <td>2008</td>\n",
       "      <td>2</td>\n",
       "      <td>5</td>\n",
       "      <td>1</td>\n",
       "      <td>1</td>\n",
       "    </tr>\n",
       "  </tbody>\n",
       "</table>\n",
       "</div>"
      ],
      "text/plain": [
       "       Rainfall  Evaporation  Sunshine WindGustDir  WindGustSpeed WindDir9am  \\\n",
       "30176      15.6          6.2       0.0         NaN            NaN          S   \n",
       "30177       6.0          3.4       2.7         NaN            NaN          W   \n",
       "30178       6.6          2.4       0.1         NaN            NaN        ESE   \n",
       "30179      18.8          2.2       0.0         NaN            NaN        NNE   \n",
       "30180      77.4          4.0       0.0         NaN            NaN        NNE   \n",
       "\n",
       "      WindDir3pm  WindSpeed  Humidity  Pressure  Cloud   Temp  Year  Month  \\\n",
       "30176        SSW       18.5      88.0   1017.50    8.0  20.80  2008      2   \n",
       "30177          E       11.0      78.0   1017.15    7.0  23.60  2008      2   \n",
       "30178        ESE        9.5      87.0   1016.15    7.5  23.25  2008      2   \n",
       "30179          E       21.0      86.5   1013.00    8.0  21.15  2008      2   \n",
       "30180          W        8.5      81.0   1006.55    8.0  24.00  2008      2   \n",
       "\n",
       "       Day  RainToday_Yes  RainTomorrow_Yes  \n",
       "30176    1              1                 1  \n",
       "30177    2              1                 1  \n",
       "30178    3              1                 1  \n",
       "30179    4              1                 1  \n",
       "30180    5              1                 1  "
      ]
     },
     "execution_count": 73,
     "metadata": {},
     "output_type": "execute_result"
    }
   ],
   "source": [
    "sdn.head()"
   ]
  },
  {
   "cell_type": "code",
   "execution_count": 77,
   "metadata": {},
   "outputs": [
    {
     "ename": "KeyError",
     "evalue": "\"None of [Index(['WindDir9am'], dtype='object')] are in the [columns]\"",
     "output_type": "error",
     "traceback": [
      "\u001b[1;31m---------------------------------------------------------------------------\u001b[0m",
      "\u001b[1;31mKeyError\u001b[0m                                  Traceback (most recent call last)",
      "\u001b[1;32m<ipython-input-77-af4f5408e967>\u001b[0m in \u001b[0;36m<module>\u001b[1;34m\u001b[0m\n\u001b[1;32m----> 1\u001b[1;33m \u001b[0msdn\u001b[0m \u001b[1;33m=\u001b[0m \u001b[0mpd\u001b[0m\u001b[1;33m.\u001b[0m\u001b[0mget_dummies\u001b[0m\u001b[1;33m(\u001b[0m\u001b[0msdn\u001b[0m\u001b[1;33m,\u001b[0m\u001b[0mcolumns\u001b[0m\u001b[1;33m=\u001b[0m\u001b[1;33m[\u001b[0m\u001b[1;34m'WindDir9am'\u001b[0m\u001b[1;33m]\u001b[0m\u001b[1;33m,\u001b[0m \u001b[0mdrop_first\u001b[0m\u001b[1;33m=\u001b[0m\u001b[1;32mTrue\u001b[0m\u001b[1;33m)\u001b[0m\u001b[1;33m\u001b[0m\u001b[1;33m\u001b[0m\u001b[0m\n\u001b[0m\u001b[0;32m      2\u001b[0m \u001b[0msdn\u001b[0m \u001b[1;33m=\u001b[0m \u001b[0mpd\u001b[0m\u001b[1;33m.\u001b[0m\u001b[0mget_dummies\u001b[0m\u001b[1;33m(\u001b[0m\u001b[0msdn\u001b[0m\u001b[1;33m,\u001b[0m\u001b[0mcolumns\u001b[0m\u001b[1;33m=\u001b[0m\u001b[1;33m[\u001b[0m\u001b[1;34m'WindDir3pm'\u001b[0m\u001b[1;33m]\u001b[0m\u001b[1;33m,\u001b[0m \u001b[0mdrop_first\u001b[0m\u001b[1;33m=\u001b[0m\u001b[1;32mTrue\u001b[0m\u001b[1;33m)\u001b[0m\u001b[1;33m\u001b[0m\u001b[1;33m\u001b[0m\u001b[0m\n\u001b[0;32m      3\u001b[0m \u001b[0msdn\u001b[0m\u001b[1;33m.\u001b[0m\u001b[0mhead\u001b[0m\u001b[1;33m(\u001b[0m\u001b[1;33m)\u001b[0m\u001b[1;33m\u001b[0m\u001b[1;33m\u001b[0m\u001b[0m\n",
      "\u001b[1;32m~\\anaconda3\\lib\\site-packages\\pandas\\core\\reshape\\reshape.py\u001b[0m in \u001b[0;36mget_dummies\u001b[1;34m(data, prefix, prefix_sep, dummy_na, columns, sparse, drop_first, dtype)\u001b[0m\n\u001b[0;32m    866\u001b[0m             \u001b[1;32mraise\u001b[0m \u001b[0mTypeError\u001b[0m\u001b[1;33m(\u001b[0m\u001b[1;34m\"Input must be a list-like for parameter `columns`\"\u001b[0m\u001b[1;33m)\u001b[0m\u001b[1;33m\u001b[0m\u001b[1;33m\u001b[0m\u001b[0m\n\u001b[0;32m    867\u001b[0m         \u001b[1;32melse\u001b[0m\u001b[1;33m:\u001b[0m\u001b[1;33m\u001b[0m\u001b[1;33m\u001b[0m\u001b[0m\n\u001b[1;32m--> 868\u001b[1;33m             \u001b[0mdata_to_encode\u001b[0m \u001b[1;33m=\u001b[0m \u001b[0mdata\u001b[0m\u001b[1;33m[\u001b[0m\u001b[0mcolumns\u001b[0m\u001b[1;33m]\u001b[0m\u001b[1;33m\u001b[0m\u001b[1;33m\u001b[0m\u001b[0m\n\u001b[0m\u001b[0;32m    869\u001b[0m \u001b[1;33m\u001b[0m\u001b[0m\n\u001b[0;32m    870\u001b[0m         \u001b[1;31m# validate prefixes and separator to avoid silently dropping cols\u001b[0m\u001b[1;33m\u001b[0m\u001b[1;33m\u001b[0m\u001b[1;33m\u001b[0m\u001b[0m\n",
      "\u001b[1;32m~\\anaconda3\\lib\\site-packages\\pandas\\core\\frame.py\u001b[0m in \u001b[0;36m__getitem__\u001b[1;34m(self, key)\u001b[0m\n\u001b[0;32m   2804\u001b[0m             \u001b[1;32mif\u001b[0m \u001b[0mis_iterator\u001b[0m\u001b[1;33m(\u001b[0m\u001b[0mkey\u001b[0m\u001b[1;33m)\u001b[0m\u001b[1;33m:\u001b[0m\u001b[1;33m\u001b[0m\u001b[1;33m\u001b[0m\u001b[0m\n\u001b[0;32m   2805\u001b[0m                 \u001b[0mkey\u001b[0m \u001b[1;33m=\u001b[0m \u001b[0mlist\u001b[0m\u001b[1;33m(\u001b[0m\u001b[0mkey\u001b[0m\u001b[1;33m)\u001b[0m\u001b[1;33m\u001b[0m\u001b[1;33m\u001b[0m\u001b[0m\n\u001b[1;32m-> 2806\u001b[1;33m             \u001b[0mindexer\u001b[0m \u001b[1;33m=\u001b[0m \u001b[0mself\u001b[0m\u001b[1;33m.\u001b[0m\u001b[0mloc\u001b[0m\u001b[1;33m.\u001b[0m\u001b[0m_get_listlike_indexer\u001b[0m\u001b[1;33m(\u001b[0m\u001b[0mkey\u001b[0m\u001b[1;33m,\u001b[0m \u001b[0maxis\u001b[0m\u001b[1;33m=\u001b[0m\u001b[1;36m1\u001b[0m\u001b[1;33m,\u001b[0m \u001b[0mraise_missing\u001b[0m\u001b[1;33m=\u001b[0m\u001b[1;32mTrue\u001b[0m\u001b[1;33m)\u001b[0m\u001b[1;33m[\u001b[0m\u001b[1;36m1\u001b[0m\u001b[1;33m]\u001b[0m\u001b[1;33m\u001b[0m\u001b[1;33m\u001b[0m\u001b[0m\n\u001b[0m\u001b[0;32m   2807\u001b[0m \u001b[1;33m\u001b[0m\u001b[0m\n\u001b[0;32m   2808\u001b[0m         \u001b[1;31m# take() does not accept boolean indexers\u001b[0m\u001b[1;33m\u001b[0m\u001b[1;33m\u001b[0m\u001b[1;33m\u001b[0m\u001b[0m\n",
      "\u001b[1;32m~\\anaconda3\\lib\\site-packages\\pandas\\core\\indexing.py\u001b[0m in \u001b[0;36m_get_listlike_indexer\u001b[1;34m(self, key, axis, raise_missing)\u001b[0m\n\u001b[0;32m   1550\u001b[0m             \u001b[0mkeyarr\u001b[0m\u001b[1;33m,\u001b[0m \u001b[0mindexer\u001b[0m\u001b[1;33m,\u001b[0m \u001b[0mnew_indexer\u001b[0m \u001b[1;33m=\u001b[0m \u001b[0max\u001b[0m\u001b[1;33m.\u001b[0m\u001b[0m_reindex_non_unique\u001b[0m\u001b[1;33m(\u001b[0m\u001b[0mkeyarr\u001b[0m\u001b[1;33m)\u001b[0m\u001b[1;33m\u001b[0m\u001b[1;33m\u001b[0m\u001b[0m\n\u001b[0;32m   1551\u001b[0m \u001b[1;33m\u001b[0m\u001b[0m\n\u001b[1;32m-> 1552\u001b[1;33m         self._validate_read_indexer(\n\u001b[0m\u001b[0;32m   1553\u001b[0m             \u001b[0mkeyarr\u001b[0m\u001b[1;33m,\u001b[0m \u001b[0mindexer\u001b[0m\u001b[1;33m,\u001b[0m \u001b[0mo\u001b[0m\u001b[1;33m.\u001b[0m\u001b[0m_get_axis_number\u001b[0m\u001b[1;33m(\u001b[0m\u001b[0maxis\u001b[0m\u001b[1;33m)\u001b[0m\u001b[1;33m,\u001b[0m \u001b[0mraise_missing\u001b[0m\u001b[1;33m=\u001b[0m\u001b[0mraise_missing\u001b[0m\u001b[1;33m\u001b[0m\u001b[1;33m\u001b[0m\u001b[0m\n\u001b[0;32m   1554\u001b[0m         )\n",
      "\u001b[1;32m~\\anaconda3\\lib\\site-packages\\pandas\\core\\indexing.py\u001b[0m in \u001b[0;36m_validate_read_indexer\u001b[1;34m(self, key, indexer, axis, raise_missing)\u001b[0m\n\u001b[0;32m   1638\u001b[0m             \u001b[1;32mif\u001b[0m \u001b[0mmissing\u001b[0m \u001b[1;33m==\u001b[0m \u001b[0mlen\u001b[0m\u001b[1;33m(\u001b[0m\u001b[0mindexer\u001b[0m\u001b[1;33m)\u001b[0m\u001b[1;33m:\u001b[0m\u001b[1;33m\u001b[0m\u001b[1;33m\u001b[0m\u001b[0m\n\u001b[0;32m   1639\u001b[0m                 \u001b[0maxis_name\u001b[0m \u001b[1;33m=\u001b[0m \u001b[0mself\u001b[0m\u001b[1;33m.\u001b[0m\u001b[0mobj\u001b[0m\u001b[1;33m.\u001b[0m\u001b[0m_get_axis_name\u001b[0m\u001b[1;33m(\u001b[0m\u001b[0maxis\u001b[0m\u001b[1;33m)\u001b[0m\u001b[1;33m\u001b[0m\u001b[1;33m\u001b[0m\u001b[0m\n\u001b[1;32m-> 1640\u001b[1;33m                 \u001b[1;32mraise\u001b[0m \u001b[0mKeyError\u001b[0m\u001b[1;33m(\u001b[0m\u001b[1;34mf\"None of [{key}] are in the [{axis_name}]\"\u001b[0m\u001b[1;33m)\u001b[0m\u001b[1;33m\u001b[0m\u001b[1;33m\u001b[0m\u001b[0m\n\u001b[0m\u001b[0;32m   1641\u001b[0m \u001b[1;33m\u001b[0m\u001b[0m\n\u001b[0;32m   1642\u001b[0m             \u001b[1;31m# We (temporarily) allow for some missing keys with .loc, except in\u001b[0m\u001b[1;33m\u001b[0m\u001b[1;33m\u001b[0m\u001b[1;33m\u001b[0m\u001b[0m\n",
      "\u001b[1;31mKeyError\u001b[0m: \"None of [Index(['WindDir9am'], dtype='object')] are in the [columns]\""
     ]
    }
   ],
   "source": [
    "sdn = pd.get_dummies(sdn,columns=['WindDir9am'], drop_first=True)\n",
    "sdn = pd.get_dummies(sdn,columns=['WindDir3pm'], drop_first=True)\n"
   ]
  },
  {
   "cell_type": "code",
   "execution_count": 79,
   "metadata": {},
   "outputs": [
    {
     "data": {
      "text/html": [
       "<div>\n",
       "<style scoped>\n",
       "    .dataframe tbody tr th:only-of-type {\n",
       "        vertical-align: middle;\n",
       "    }\n",
       "\n",
       "    .dataframe tbody tr th {\n",
       "        vertical-align: top;\n",
       "    }\n",
       "\n",
       "    .dataframe thead th {\n",
       "        text-align: right;\n",
       "    }\n",
       "</style>\n",
       "<table border=\"1\" class=\"dataframe\">\n",
       "  <thead>\n",
       "    <tr style=\"text-align: right;\">\n",
       "      <th></th>\n",
       "      <th>Rainfall</th>\n",
       "      <th>Evaporation</th>\n",
       "      <th>Sunshine</th>\n",
       "      <th>WindGustDir</th>\n",
       "      <th>WindGustSpeed</th>\n",
       "      <th>WindSpeed</th>\n",
       "      <th>Humidity</th>\n",
       "      <th>Pressure</th>\n",
       "      <th>Cloud</th>\n",
       "      <th>Temp</th>\n",
       "      <th>...</th>\n",
       "      <th>WindDir3pm_NNW</th>\n",
       "      <th>WindDir3pm_NW</th>\n",
       "      <th>WindDir3pm_S</th>\n",
       "      <th>WindDir3pm_SE</th>\n",
       "      <th>WindDir3pm_SSE</th>\n",
       "      <th>WindDir3pm_SSW</th>\n",
       "      <th>WindDir3pm_SW</th>\n",
       "      <th>WindDir3pm_W</th>\n",
       "      <th>WindDir3pm_WNW</th>\n",
       "      <th>WindDir3pm_WSW</th>\n",
       "    </tr>\n",
       "  </thead>\n",
       "  <tbody>\n",
       "    <tr>\n",
       "      <th>30176</th>\n",
       "      <td>15.6</td>\n",
       "      <td>6.2</td>\n",
       "      <td>0.0</td>\n",
       "      <td>NaN</td>\n",
       "      <td>NaN</td>\n",
       "      <td>18.5</td>\n",
       "      <td>88.0</td>\n",
       "      <td>1017.50</td>\n",
       "      <td>8.0</td>\n",
       "      <td>20.80</td>\n",
       "      <td>...</td>\n",
       "      <td>0</td>\n",
       "      <td>0</td>\n",
       "      <td>0</td>\n",
       "      <td>0</td>\n",
       "      <td>0</td>\n",
       "      <td>1</td>\n",
       "      <td>0</td>\n",
       "      <td>0</td>\n",
       "      <td>0</td>\n",
       "      <td>0</td>\n",
       "    </tr>\n",
       "    <tr>\n",
       "      <th>30177</th>\n",
       "      <td>6.0</td>\n",
       "      <td>3.4</td>\n",
       "      <td>2.7</td>\n",
       "      <td>NaN</td>\n",
       "      <td>NaN</td>\n",
       "      <td>11.0</td>\n",
       "      <td>78.0</td>\n",
       "      <td>1017.15</td>\n",
       "      <td>7.0</td>\n",
       "      <td>23.60</td>\n",
       "      <td>...</td>\n",
       "      <td>0</td>\n",
       "      <td>0</td>\n",
       "      <td>0</td>\n",
       "      <td>0</td>\n",
       "      <td>0</td>\n",
       "      <td>0</td>\n",
       "      <td>0</td>\n",
       "      <td>0</td>\n",
       "      <td>0</td>\n",
       "      <td>0</td>\n",
       "    </tr>\n",
       "    <tr>\n",
       "      <th>30178</th>\n",
       "      <td>6.6</td>\n",
       "      <td>2.4</td>\n",
       "      <td>0.1</td>\n",
       "      <td>NaN</td>\n",
       "      <td>NaN</td>\n",
       "      <td>9.5</td>\n",
       "      <td>87.0</td>\n",
       "      <td>1016.15</td>\n",
       "      <td>7.5</td>\n",
       "      <td>23.25</td>\n",
       "      <td>...</td>\n",
       "      <td>0</td>\n",
       "      <td>0</td>\n",
       "      <td>0</td>\n",
       "      <td>0</td>\n",
       "      <td>0</td>\n",
       "      <td>0</td>\n",
       "      <td>0</td>\n",
       "      <td>0</td>\n",
       "      <td>0</td>\n",
       "      <td>0</td>\n",
       "    </tr>\n",
       "    <tr>\n",
       "      <th>30179</th>\n",
       "      <td>18.8</td>\n",
       "      <td>2.2</td>\n",
       "      <td>0.0</td>\n",
       "      <td>NaN</td>\n",
       "      <td>NaN</td>\n",
       "      <td>21.0</td>\n",
       "      <td>86.5</td>\n",
       "      <td>1013.00</td>\n",
       "      <td>8.0</td>\n",
       "      <td>21.15</td>\n",
       "      <td>...</td>\n",
       "      <td>0</td>\n",
       "      <td>0</td>\n",
       "      <td>0</td>\n",
       "      <td>0</td>\n",
       "      <td>0</td>\n",
       "      <td>0</td>\n",
       "      <td>0</td>\n",
       "      <td>0</td>\n",
       "      <td>0</td>\n",
       "      <td>0</td>\n",
       "    </tr>\n",
       "    <tr>\n",
       "      <th>30180</th>\n",
       "      <td>77.4</td>\n",
       "      <td>4.0</td>\n",
       "      <td>0.0</td>\n",
       "      <td>NaN</td>\n",
       "      <td>NaN</td>\n",
       "      <td>8.5</td>\n",
       "      <td>81.0</td>\n",
       "      <td>1006.55</td>\n",
       "      <td>8.0</td>\n",
       "      <td>24.00</td>\n",
       "      <td>...</td>\n",
       "      <td>0</td>\n",
       "      <td>0</td>\n",
       "      <td>0</td>\n",
       "      <td>0</td>\n",
       "      <td>0</td>\n",
       "      <td>0</td>\n",
       "      <td>0</td>\n",
       "      <td>1</td>\n",
       "      <td>0</td>\n",
       "      <td>0</td>\n",
       "    </tr>\n",
       "  </tbody>\n",
       "</table>\n",
       "<p>5 rows × 45 columns</p>\n",
       "</div>"
      ],
      "text/plain": [
       "       Rainfall  Evaporation  Sunshine WindGustDir  WindGustSpeed  WindSpeed  \\\n",
       "30176      15.6          6.2       0.0         NaN            NaN       18.5   \n",
       "30177       6.0          3.4       2.7         NaN            NaN       11.0   \n",
       "30178       6.6          2.4       0.1         NaN            NaN        9.5   \n",
       "30179      18.8          2.2       0.0         NaN            NaN       21.0   \n",
       "30180      77.4          4.0       0.0         NaN            NaN        8.5   \n",
       "\n",
       "       Humidity  Pressure  Cloud   Temp  ...  WindDir3pm_NNW  WindDir3pm_NW  \\\n",
       "30176      88.0   1017.50    8.0  20.80  ...               0              0   \n",
       "30177      78.0   1017.15    7.0  23.60  ...               0              0   \n",
       "30178      87.0   1016.15    7.5  23.25  ...               0              0   \n",
       "30179      86.5   1013.00    8.0  21.15  ...               0              0   \n",
       "30180      81.0   1006.55    8.0  24.00  ...               0              0   \n",
       "\n",
       "       WindDir3pm_S  WindDir3pm_SE  WindDir3pm_SSE  WindDir3pm_SSW  \\\n",
       "30176             0              0               0               1   \n",
       "30177             0              0               0               0   \n",
       "30178             0              0               0               0   \n",
       "30179             0              0               0               0   \n",
       "30180             0              0               0               0   \n",
       "\n",
       "       WindDir3pm_SW  WindDir3pm_W  WindDir3pm_WNW  WindDir3pm_WSW  \n",
       "30176              0             0               0               0  \n",
       "30177              0             0               0               0  \n",
       "30178              0             0               0               0  \n",
       "30179              0             0               0               0  \n",
       "30180              0             1               0               0  \n",
       "\n",
       "[5 rows x 45 columns]"
      ]
     },
     "execution_count": 79,
     "metadata": {},
     "output_type": "execute_result"
    }
   ],
   "source": [
    "sdn.head()"
   ]
  },
  {
   "cell_type": "code",
   "execution_count": 80,
   "metadata": {},
   "outputs": [
    {
     "data": {
      "text/plain": [
       "Rainfall            0.293934\n",
       "Evaporation        -0.069448\n",
       "Sunshine           -0.517219\n",
       "WindGustSpeed       0.174079\n",
       "WindSpeed           0.034688\n",
       "Humidity            0.442175\n",
       "Pressure           -0.010377\n",
       "Cloud               0.411039\n",
       "Temp               -0.092685\n",
       "Year                0.001924\n",
       "Month              -0.049176\n",
       "Day                -0.021059\n",
       "RainToday_Yes       0.341377\n",
       "RainTomorrow_Yes    1.000000\n",
       "WindDir9am_ENE      0.005837\n",
       "WindDir9am_ESE      0.031940\n",
       "WindDir9am_N       -0.011496\n",
       "WindDir9am_NE       0.001185\n",
       "WindDir9am_NNE     -0.003331\n",
       "WindDir9am_NNW     -0.038954\n",
       "WindDir9am_NW      -0.004283\n",
       "WindDir9am_S        0.079811\n",
       "WindDir9am_SE       0.093780\n",
       "WindDir9am_SSE      0.080358\n",
       "WindDir9am_SSW      0.124533\n",
       "WindDir9am_SW       0.043555\n",
       "WindDir9am_W       -0.101983\n",
       "WindDir9am_WNW     -0.085545\n",
       "WindDir9am_WSW     -0.015505\n",
       "WindDir3pm_ENE     -0.090241\n",
       "WindDir3pm_ESE      0.014882\n",
       "WindDir3pm_N        0.008059\n",
       "WindDir3pm_NE      -0.060387\n",
       "WindDir3pm_NNE      0.047075\n",
       "WindDir3pm_NNW      0.018521\n",
       "WindDir3pm_NW      -0.018110\n",
       "WindDir3pm_S        0.141073\n",
       "WindDir3pm_SE       0.067028\n",
       "WindDir3pm_SSE      0.077839\n",
       "WindDir3pm_SSW      0.176473\n",
       "WindDir3pm_SW       0.045886\n",
       "WindDir3pm_W       -0.047847\n",
       "WindDir3pm_WNW     -0.095684\n",
       "WindDir3pm_WSW     -0.036528\n",
       "Name: RainTomorrow_Yes, dtype: float64"
      ]
     },
     "execution_count": 80,
     "metadata": {},
     "output_type": "execute_result"
    }
   ],
   "source": [
    "sdn_matrix_corr = sdn.corr()\n",
    "sdn_matrix_corr.RainTomorrow_Yes"
   ]
  },
  {
   "cell_type": "code",
   "execution_count": 81,
   "metadata": {},
   "outputs": [],
   "source": [
    "sdn = sdn.drop(columns=['WindDir3pm_WSW', 'WindDir3pm_WNW', 'WindDir3pm_W', 'WindDir3pm_SW','WindDir3pm_SSW',\n",
    "                       'WindDir3pm_SSE', 'WindDir3pm_SE', 'WindDir3pm_S', 'WindDir3pm_NW', 'WindDir3pm_NNW',\n",
    "                       'WindDir3pm_NNE', 'WindDir3pm_NE', 'WindDir3pm_N', 'WindDir3pm_ESE',  'WindDir3pm_ENE'\n",
    "                       ])"
   ]
  },
  {
   "cell_type": "code",
   "execution_count": 86,
   "metadata": {},
   "outputs": [
    {
     "data": {
      "text/plain": [
       "['WindDir9am_ENE',\n",
       " 'WindDir9am_ESE',\n",
       " 'WindDir9am_N',\n",
       " 'WindDir9am_NE',\n",
       " 'WindDir9am_NNE',\n",
       " 'WindDir9am_NNW',\n",
       " 'WindDir9am_NW',\n",
       " 'WindDir9am_S',\n",
       " 'WindDir9am_SE',\n",
       " 'WindDir9am_SSE',\n",
       " 'WindDir9am_SSW',\n",
       " 'WindDir9am_SW',\n",
       " 'WindDir9am_W',\n",
       " 'WindDir9am_WNW',\n",
       " 'WindDir9am_WSW']"
      ]
     },
     "execution_count": 86,
     "metadata": {},
     "output_type": "execute_result"
    }
   ],
   "source": [
    "list(sdn)[-15:]"
   ]
  },
  {
   "cell_type": "code",
   "execution_count": 87,
   "metadata": {},
   "outputs": [],
   "source": [
    "sdn = sdn.drop(columns=list(sdn)[-15:])"
   ]
  },
  {
   "cell_type": "code",
   "execution_count": 89,
   "metadata": {},
   "outputs": [],
   "source": [
    "sdn = sdn.drop(columns='WindGustSpeed')"
   ]
  },
  {
   "cell_type": "code",
   "execution_count": 90,
   "metadata": {},
   "outputs": [],
   "source": [
    "sdn = sdn.drop(columns='WindGustDir')"
   ]
  },
  {
   "cell_type": "code",
   "execution_count": 91,
   "metadata": {},
   "outputs": [
    {
     "data": {
      "text/html": [
       "<div>\n",
       "<style scoped>\n",
       "    .dataframe tbody tr th:only-of-type {\n",
       "        vertical-align: middle;\n",
       "    }\n",
       "\n",
       "    .dataframe tbody tr th {\n",
       "        vertical-align: top;\n",
       "    }\n",
       "\n",
       "    .dataframe thead th {\n",
       "        text-align: right;\n",
       "    }\n",
       "</style>\n",
       "<table border=\"1\" class=\"dataframe\">\n",
       "  <thead>\n",
       "    <tr style=\"text-align: right;\">\n",
       "      <th></th>\n",
       "      <th>Rainfall</th>\n",
       "      <th>Evaporation</th>\n",
       "      <th>Sunshine</th>\n",
       "      <th>WindSpeed</th>\n",
       "      <th>Humidity</th>\n",
       "      <th>Pressure</th>\n",
       "      <th>Cloud</th>\n",
       "      <th>Temp</th>\n",
       "      <th>Year</th>\n",
       "      <th>Month</th>\n",
       "      <th>Day</th>\n",
       "      <th>RainToday_Yes</th>\n",
       "      <th>RainTomorrow_Yes</th>\n",
       "    </tr>\n",
       "  </thead>\n",
       "  <tbody>\n",
       "    <tr>\n",
       "      <th>30176</th>\n",
       "      <td>15.6</td>\n",
       "      <td>6.2</td>\n",
       "      <td>0.0</td>\n",
       "      <td>18.5</td>\n",
       "      <td>88.0</td>\n",
       "      <td>1017.50</td>\n",
       "      <td>8.0</td>\n",
       "      <td>20.80</td>\n",
       "      <td>2008</td>\n",
       "      <td>2</td>\n",
       "      <td>1</td>\n",
       "      <td>1</td>\n",
       "      <td>1</td>\n",
       "    </tr>\n",
       "    <tr>\n",
       "      <th>30177</th>\n",
       "      <td>6.0</td>\n",
       "      <td>3.4</td>\n",
       "      <td>2.7</td>\n",
       "      <td>11.0</td>\n",
       "      <td>78.0</td>\n",
       "      <td>1017.15</td>\n",
       "      <td>7.0</td>\n",
       "      <td>23.60</td>\n",
       "      <td>2008</td>\n",
       "      <td>2</td>\n",
       "      <td>2</td>\n",
       "      <td>1</td>\n",
       "      <td>1</td>\n",
       "    </tr>\n",
       "    <tr>\n",
       "      <th>30178</th>\n",
       "      <td>6.6</td>\n",
       "      <td>2.4</td>\n",
       "      <td>0.1</td>\n",
       "      <td>9.5</td>\n",
       "      <td>87.0</td>\n",
       "      <td>1016.15</td>\n",
       "      <td>7.5</td>\n",
       "      <td>23.25</td>\n",
       "      <td>2008</td>\n",
       "      <td>2</td>\n",
       "      <td>3</td>\n",
       "      <td>1</td>\n",
       "      <td>1</td>\n",
       "    </tr>\n",
       "    <tr>\n",
       "      <th>30179</th>\n",
       "      <td>18.8</td>\n",
       "      <td>2.2</td>\n",
       "      <td>0.0</td>\n",
       "      <td>21.0</td>\n",
       "      <td>86.5</td>\n",
       "      <td>1013.00</td>\n",
       "      <td>8.0</td>\n",
       "      <td>21.15</td>\n",
       "      <td>2008</td>\n",
       "      <td>2</td>\n",
       "      <td>4</td>\n",
       "      <td>1</td>\n",
       "      <td>1</td>\n",
       "    </tr>\n",
       "    <tr>\n",
       "      <th>30180</th>\n",
       "      <td>77.4</td>\n",
       "      <td>4.0</td>\n",
       "      <td>0.0</td>\n",
       "      <td>8.5</td>\n",
       "      <td>81.0</td>\n",
       "      <td>1006.55</td>\n",
       "      <td>8.0</td>\n",
       "      <td>24.00</td>\n",
       "      <td>2008</td>\n",
       "      <td>2</td>\n",
       "      <td>5</td>\n",
       "      <td>1</td>\n",
       "      <td>1</td>\n",
       "    </tr>\n",
       "    <tr>\n",
       "      <th>...</th>\n",
       "      <td>...</td>\n",
       "      <td>...</td>\n",
       "      <td>...</td>\n",
       "      <td>...</td>\n",
       "      <td>...</td>\n",
       "      <td>...</td>\n",
       "      <td>...</td>\n",
       "      <td>...</td>\n",
       "      <td>...</td>\n",
       "      <td>...</td>\n",
       "      <td>...</td>\n",
       "      <td>...</td>\n",
       "      <td>...</td>\n",
       "    </tr>\n",
       "    <tr>\n",
       "      <th>33515</th>\n",
       "      <td>0.0</td>\n",
       "      <td>2.0</td>\n",
       "      <td>7.8</td>\n",
       "      <td>21.0</td>\n",
       "      <td>62.5</td>\n",
       "      <td>1025.60</td>\n",
       "      <td>2.0</td>\n",
       "      <td>14.20</td>\n",
       "      <td>2017</td>\n",
       "      <td>6</td>\n",
       "      <td>21</td>\n",
       "      <td>0</td>\n",
       "      <td>0</td>\n",
       "    </tr>\n",
       "    <tr>\n",
       "      <th>33516</th>\n",
       "      <td>0.0</td>\n",
       "      <td>2.0</td>\n",
       "      <td>9.2</td>\n",
       "      <td>13.5</td>\n",
       "      <td>65.5</td>\n",
       "      <td>1026.55</td>\n",
       "      <td>2.0</td>\n",
       "      <td>14.85</td>\n",
       "      <td>2017</td>\n",
       "      <td>6</td>\n",
       "      <td>22</td>\n",
       "      <td>0</td>\n",
       "      <td>0</td>\n",
       "    </tr>\n",
       "    <tr>\n",
       "      <th>33517</th>\n",
       "      <td>0.0</td>\n",
       "      <td>2.4</td>\n",
       "      <td>2.7</td>\n",
       "      <td>14.0</td>\n",
       "      <td>70.5</td>\n",
       "      <td>1017.90</td>\n",
       "      <td>6.0</td>\n",
       "      <td>13.75</td>\n",
       "      <td>2017</td>\n",
       "      <td>6</td>\n",
       "      <td>23</td>\n",
       "      <td>0</td>\n",
       "      <td>0</td>\n",
       "    </tr>\n",
       "    <tr>\n",
       "      <th>33518</th>\n",
       "      <td>0.0</td>\n",
       "      <td>1.4</td>\n",
       "      <td>9.3</td>\n",
       "      <td>18.0</td>\n",
       "      <td>45.5</td>\n",
       "      <td>1016.20</td>\n",
       "      <td>3.5</td>\n",
       "      <td>15.70</td>\n",
       "      <td>2017</td>\n",
       "      <td>6</td>\n",
       "      <td>24</td>\n",
       "      <td>0</td>\n",
       "      <td>0</td>\n",
       "    </tr>\n",
       "    <tr>\n",
       "      <th>33519</th>\n",
       "      <td>0.0</td>\n",
       "      <td>3.4</td>\n",
       "      <td>9.4</td>\n",
       "      <td>13.0</td>\n",
       "      <td>52.5</td>\n",
       "      <td>1017.00</td>\n",
       "      <td>1.0</td>\n",
       "      <td>14.10</td>\n",
       "      <td>2017</td>\n",
       "      <td>6</td>\n",
       "      <td>25</td>\n",
       "      <td>0</td>\n",
       "      <td>0</td>\n",
       "    </tr>\n",
       "  </tbody>\n",
       "</table>\n",
       "<p>3344 rows × 13 columns</p>\n",
       "</div>"
      ],
      "text/plain": [
       "       Rainfall  Evaporation  Sunshine  WindSpeed  Humidity  Pressure  Cloud  \\\n",
       "30176      15.6          6.2       0.0       18.5      88.0   1017.50    8.0   \n",
       "30177       6.0          3.4       2.7       11.0      78.0   1017.15    7.0   \n",
       "30178       6.6          2.4       0.1        9.5      87.0   1016.15    7.5   \n",
       "30179      18.8          2.2       0.0       21.0      86.5   1013.00    8.0   \n",
       "30180      77.4          4.0       0.0        8.5      81.0   1006.55    8.0   \n",
       "...         ...          ...       ...        ...       ...       ...    ...   \n",
       "33515       0.0          2.0       7.8       21.0      62.5   1025.60    2.0   \n",
       "33516       0.0          2.0       9.2       13.5      65.5   1026.55    2.0   \n",
       "33517       0.0          2.4       2.7       14.0      70.5   1017.90    6.0   \n",
       "33518       0.0          1.4       9.3       18.0      45.5   1016.20    3.5   \n",
       "33519       0.0          3.4       9.4       13.0      52.5   1017.00    1.0   \n",
       "\n",
       "        Temp  Year  Month  Day  RainToday_Yes  RainTomorrow_Yes  \n",
       "30176  20.80  2008      2    1              1                 1  \n",
       "30177  23.60  2008      2    2              1                 1  \n",
       "30178  23.25  2008      2    3              1                 1  \n",
       "30179  21.15  2008      2    4              1                 1  \n",
       "30180  24.00  2008      2    5              1                 1  \n",
       "...      ...   ...    ...  ...            ...               ...  \n",
       "33515  14.20  2017      6   21              0                 0  \n",
       "33516  14.85  2017      6   22              0                 0  \n",
       "33517  13.75  2017      6   23              0                 0  \n",
       "33518  15.70  2017      6   24              0                 0  \n",
       "33519  14.10  2017      6   25              0                 0  \n",
       "\n",
       "[3344 rows x 13 columns]"
      ]
     },
     "execution_count": 91,
     "metadata": {},
     "output_type": "execute_result"
    }
   ],
   "source": [
    "sdn"
   ]
  },
  {
   "cell_type": "markdown",
   "metadata": {},
   "source": [
    "# 2. Data analytics\n",
    "\n",
    "after filtering the data, I want to see the connections between the features to the prediction"
   ]
  },
  {
   "cell_type": "code",
   "execution_count": 49,
   "metadata": {},
   "outputs": [
    {
     "data": {
      "text/plain": [
       "Text(0, 0.5, 'Rain Tomorrow')"
      ]
     },
     "execution_count": 49,
     "metadata": {},
     "output_type": "execute_result"
    },
    {
     "data": {
      "image/png": "[encoded data removed]",
      "text/plain": [
       "<Figure size 432x288 with 1 Axes>"
      ]
     },
     "metadata": {
      "needs_background": "light"
     },
     "output_type": "display_data"
    }
   ],
   "source": [
    "plt.scatter(x = sdn['Rainfall'], y = sdn['RainTomorrow_Yes'])\n",
    "plt.xlabel(\"Rainfall\")\n",
    "plt.ylabel(\"Rain Tomorrow\")"
   ]
  },
  {
   "cell_type": "code",
   "execution_count": 51,
   "metadata": {},
   "outputs": [
    {
     "data": {
      "text/plain": [
       "Text(0, 0.5, 'Rain Tomorrow')"
      ]
     },
     "execution_count": 51,
     "metadata": {},
     "output_type": "execute_result"
    },
    {
     "data": {
      "image/png": "[encoded data removed]",
      "text/plain": [
       "<Figure size 432x288 with 1 Axes>"
      ]
     },
     "metadata": {
      "needs_background": "light"
     },
     "output_type": "display_data"
    }
   ],
   "source": [
    "plt.scatter(x = sdn['Evaporation'], y = sdn['RainTomorrow_Yes'])\n",
    "plt.xlabel(\"Evaporation\")\n",
    "plt.ylabel(\"Rain Tomorrow\")"
   ]
  },
  {
   "cell_type": "code",
   "execution_count": 52,
   "metadata": {},
   "outputs": [
    {
     "data": {
      "text/plain": [
       "Text(0, 0.5, 'Rain Tomorrow')"
      ]
     },
     "execution_count": 52,
     "metadata": {},
     "output_type": "execute_result"
    },
    {
     "data": {
      "image/png": "[encoded data removed]",
      "text/plain": [
       "<Figure size 432x288 with 1 Axes>"
      ]
     },
     "metadata": {
      "needs_background": "light"
     },
     "output_type": "display_data"
    }
   ],
   "source": [
    "plt.scatter(x = sdn['Sunshine'], y = sdn['RainTomorrow_Yes'])\n",
    "plt.xlabel(\"Sunshine\")\n",
    "plt.ylabel(\"Rain Tomorrow\")"
   ]
  },
  {
   "cell_type": "code",
   "execution_count": 53,
   "metadata": {},
   "outputs": [
    {
     "data": {
      "text/plain": [
       "Text(0, 0.5, 'Rain Tomorrow')"
      ]
     },
     "execution_count": 53,
     "metadata": {},
     "output_type": "execute_result"
    },
    {
     "data": {
      "image/png": "[encoded data removed]",
      "text/plain": [
       "<Figure size 432x288 with 1 Axes>"
      ]
     },
     "metadata": {
      "needs_background": "light"
     },
     "output_type": "display_data"
    }
   ],
   "source": [
    "plt.scatter(x = sdn['WindSpeed'], y = sdn['RainTomorrow_Yes'])\n",
    "plt.xlabel(\"WindSpeed\")\n",
    "plt.ylabel(\"Rain Tomorrow\")"
   ]
  },
  {
   "cell_type": "code",
   "execution_count": 54,
   "metadata": {},
   "outputs": [
    {
     "data": {
      "text/plain": [
       "Text(0, 0.5, 'Rain Tomorrow')"
      ]
     },
     "execution_count": 54,
     "metadata": {},
     "output_type": "execute_result"
    },
    {
     "data": {
      "image/png": "[encoded data removed]",
      "text/plain": [
       "<Figure size 432x288 with 1 Axes>"
      ]
     },
     "metadata": {
      "needs_background": "light"
     },
     "output_type": "display_data"
    }
   ],
   "source": [
    "plt.scatter(x = sdn['Humidity'], y = sdn['RainTomorrow_Yes'])\n",
    "plt.xlabel(\"Humidity\")\n",
    "plt.ylabel(\"Rain Tomorrow\")"
   ]
  },
  {
   "cell_type": "code",
   "execution_count": 55,
   "metadata": {},
   "outputs": [
    {
     "data": {
      "text/plain": [
       "Text(0, 0.5, 'Rain Tomorrow')"
      ]
     },
     "execution_count": 55,
     "metadata": {},
     "output_type": "execute_result"
    },
    {
     "data": {
      "image/png": "[encoded data removed]",
      "text/plain": [
       "<Figure size 432x288 with 1 Axes>"
      ]
     },
     "metadata": {
      "needs_background": "light"
     },
     "output_type": "display_data"
    }
   ],
   "source": [
    "plt.scatter(x = sdn['Pressure'], y = sdn['RainTomorrow_Yes'])\n",
    "plt.xlabel(\"Pressure\")\n",
    "plt.ylabel(\"Rain Tomorrow\")"
   ]
  },
  {
   "cell_type": "code",
   "execution_count": 56,
   "metadata": {},
   "outputs": [
    {
     "data": {
      "text/plain": [
       "Text(0, 0.5, 'Rain Tomorrow')"
      ]
     },
     "execution_count": 56,
     "metadata": {},
     "output_type": "execute_result"
    },
    {
     "data": {
      "image/png": "[encoded data removed]",
      "text/plain": [
       "<Figure size 432x288 with 1 Axes>"
      ]
     },
     "metadata": {
      "needs_background": "light"
     },
     "output_type": "display_data"
    }
   ],
   "source": [
    "plt.scatter(x = sdn['Cloud'], y = sdn['RainTomorrow_Yes'])\n",
    "plt.xlabel(\"Cloud\")\n",
    "plt.ylabel(\"Rain Tomorrow\")"
   ]
  },
  {
   "cell_type": "code",
   "execution_count": 57,
   "metadata": {},
   "outputs": [
    {
     "data": {
      "text/plain": [
       "Text(0, 0.5, 'Rain Tomorrow')"
      ]
     },
     "execution_count": 57,
     "metadata": {},
     "output_type": "execute_result"
    },
    {
     "data": {
      "image/png": "[encoded data removed]",
      "text/plain": [
       "<Figure size 432x288 with 1 Axes>"
      ]
     },
     "metadata": {
      "needs_background": "light"
     },
     "output_type": "display_data"
    }
   ],
   "source": [
    "plt.scatter(x = sdn['Temp'], y = sdn['RainTomorrow_Yes'])\n",
    "plt.xlabel(\"Temp\")\n",
    "plt.ylabel(\"Rain Tomorrow\")"
   ]
  },
  {
   "cell_type": "code",
   "execution_count": 58,
   "metadata": {},
   "outputs": [
    {
     "data": {
      "text/plain": [
       "Text(0, 0.5, 'Rain Tomorrow')"
      ]
     },
     "execution_count": 58,
     "metadata": {},
     "output_type": "execute_result"
    },
    {
     "data": {
      "image/png": "[encoded data removed]",
      "text/plain": [
       "<Figure size 432x288 with 1 Axes>"
      ]
     },
     "metadata": {
      "needs_background": "light"
     },
     "output_type": "display_data"
    }
   ],
   "source": [
    "plt.scatter(x = sdn['RainToday_Yes'], y = sdn['RainTomorrow_Yes'])\n",
    "plt.xlabel(\"RainToday_Yes\")\n",
    "plt.ylabel(\"Rain Tomorrow\")"
   ]
  },
  {
   "cell_type": "code",
   "execution_count": 92,
   "metadata": {},
   "outputs": [
    {
     "data": {
      "text/plain": [
       "0    2479\n",
       "1     865\n",
       "Name: RainTomorrow_Yes, dtype: int64"
      ]
     },
     "execution_count": 92,
     "metadata": {},
     "output_type": "execute_result"
    }
   ],
   "source": [
    "sdn.RainTomorrow_Yes.value_counts()"
   ]
  },
  {
   "cell_type": "markdown",
   "metadata": {},
   "source": [
    "## I see that the dataset isn't balanced, I have more record that it wouldn't rain tommorow, that's why I'm expecting that the model would classify better no rain tommorow.\n"
   ]
  },
  {
   "cell_type": "code",
   "execution_count": 93,
   "metadata": {},
   "outputs": [
    {
     "data": {
      "text/plain": [
       "Rainfall            0.293934\n",
       "Evaporation        -0.069448\n",
       "Sunshine           -0.517219\n",
       "WindSpeed           0.034688\n",
       "Humidity            0.442175\n",
       "Pressure           -0.010377\n",
       "Cloud               0.411039\n",
       "Temp               -0.092685\n",
       "Year                0.001924\n",
       "Month              -0.049176\n",
       "Day                -0.021059\n",
       "RainToday_Yes       0.341377\n",
       "RainTomorrow_Yes    1.000000\n",
       "Name: RainTomorrow_Yes, dtype: float64"
      ]
     },
     "execution_count": 93,
     "metadata": {},
     "output_type": "execute_result"
    }
   ],
   "source": [
    "corr_matrix = sdn.corr()\n",
    "corr_matrix.RainTomorrow_Yes"
   ]
  },
  {
   "cell_type": "markdown",
   "metadata": {},
   "source": [
    "# 3. Model training\n",
    "\n",
    "## 3.1 KNN"
   ]
  },
  {
   "cell_type": "code",
   "execution_count": 98,
   "metadata": {},
   "outputs": [],
   "source": [
    "from sklearn.neighbors import KNeighborsClassifier\n",
    "from sklearn.preprocessing import MinMaxScaler\n",
    "from sklearn.model_selection import train_test_split"
   ]
  },
  {
   "cell_type": "code",
   "execution_count": 99,
   "metadata": {},
   "outputs": [],
   "source": [
    "X = sdn.drop(['RainTomorrow_Yes'], axis=1)\n",
    "y = sdn['RainTomorrow_Yes']"
   ]
  },
  {
   "cell_type": "code",
   "execution_count": 100,
   "metadata": {},
   "outputs": [
    {
     "data": {
      "text/plain": [
       "array([[0.13065327, 0.33695652, 0.        , ..., 0.09090909, 0.        ,\n",
       "        1.        ],\n",
       "       [0.05025126, 0.18478261, 0.19852941, ..., 0.09090909, 0.03333333,\n",
       "        1.        ],\n",
       "       [0.05527638, 0.13043478, 0.00735294, ..., 0.09090909, 0.06666667,\n",
       "        1.        ],\n",
       "       ...,\n",
       "       [0.        , 0.13043478, 0.19852941, ..., 0.45454545, 0.73333333,\n",
       "        0.        ],\n",
       "       [0.        , 0.07608696, 0.68382353, ..., 0.45454545, 0.76666667,\n",
       "        0.        ],\n",
       "       [0.        , 0.18478261, 0.69117647, ..., 0.45454545, 0.8       ,\n",
       "        0.        ]])"
      ]
     },
     "execution_count": 100,
     "metadata": {},
     "output_type": "execute_result"
    }
   ],
   "source": [
    "scaler = MinMaxScaler()\n",
    "X = scaler.fit_transform(X)\n",
    "X"
   ]
  },
  {
   "cell_type": "code",
   "execution_count": 101,
   "metadata": {},
   "outputs": [
    {
     "data": {
      "text/html": [
       "<div>\n",
       "<style scoped>\n",
       "    .dataframe tbody tr th:only-of-type {\n",
       "        vertical-align: middle;\n",
       "    }\n",
       "\n",
       "    .dataframe tbody tr th {\n",
       "        vertical-align: top;\n",
       "    }\n",
       "\n",
       "    .dataframe thead tr th {\n",
       "        text-align: left;\n",
       "    }\n",
       "</style>\n",
       "<table border=\"1\" class=\"dataframe\">\n",
       "  <thead>\n",
       "    <tr>\n",
       "      <th></th>\n",
       "      <th>Rainfall</th>\n",
       "      <th>Evaporation</th>\n",
       "      <th>Sunshine</th>\n",
       "      <th>WindSpeed</th>\n",
       "      <th>Humidity</th>\n",
       "      <th>Pressure</th>\n",
       "      <th>Cloud</th>\n",
       "      <th>Temp</th>\n",
       "      <th>Year</th>\n",
       "      <th>Month</th>\n",
       "      <th>Day</th>\n",
       "      <th>RainToday_Yes</th>\n",
       "    </tr>\n",
       "  </thead>\n",
       "  <tbody>\n",
       "    <tr>\n",
       "      <th>0</th>\n",
       "      <td>0.130653</td>\n",
       "      <td>0.336957</td>\n",
       "      <td>0.000000</td>\n",
       "      <td>0.37</td>\n",
       "      <td>0.900621</td>\n",
       "      <td>0.590113</td>\n",
       "      <td>1.0000</td>\n",
       "      <td>0.410714</td>\n",
       "      <td>0.0</td>\n",
       "      <td>0.090909</td>\n",
       "      <td>0.000000</td>\n",
       "      <td>1.0</td>\n",
       "    </tr>\n",
       "    <tr>\n",
       "      <th>1</th>\n",
       "      <td>0.050251</td>\n",
       "      <td>0.184783</td>\n",
       "      <td>0.198529</td>\n",
       "      <td>0.22</td>\n",
       "      <td>0.776398</td>\n",
       "      <td>0.582904</td>\n",
       "      <td>0.8750</td>\n",
       "      <td>0.510714</td>\n",
       "      <td>0.0</td>\n",
       "      <td>0.090909</td>\n",
       "      <td>0.033333</td>\n",
       "      <td>1.0</td>\n",
       "    </tr>\n",
       "    <tr>\n",
       "      <th>2</th>\n",
       "      <td>0.055276</td>\n",
       "      <td>0.130435</td>\n",
       "      <td>0.007353</td>\n",
       "      <td>0.19</td>\n",
       "      <td>0.888199</td>\n",
       "      <td>0.562307</td>\n",
       "      <td>0.9375</td>\n",
       "      <td>0.498214</td>\n",
       "      <td>0.0</td>\n",
       "      <td>0.090909</td>\n",
       "      <td>0.066667</td>\n",
       "      <td>1.0</td>\n",
       "    </tr>\n",
       "    <tr>\n",
       "      <th>3</th>\n",
       "      <td>0.157454</td>\n",
       "      <td>0.119565</td>\n",
       "      <td>0.000000</td>\n",
       "      <td>0.42</td>\n",
       "      <td>0.881988</td>\n",
       "      <td>0.497425</td>\n",
       "      <td>1.0000</td>\n",
       "      <td>0.423214</td>\n",
       "      <td>0.0</td>\n",
       "      <td>0.090909</td>\n",
       "      <td>0.100000</td>\n",
       "      <td>1.0</td>\n",
       "    </tr>\n",
       "    <tr>\n",
       "      <th>4</th>\n",
       "      <td>0.648241</td>\n",
       "      <td>0.217391</td>\n",
       "      <td>0.000000</td>\n",
       "      <td>0.17</td>\n",
       "      <td>0.813665</td>\n",
       "      <td>0.364573</td>\n",
       "      <td>1.0000</td>\n",
       "      <td>0.525000</td>\n",
       "      <td>0.0</td>\n",
       "      <td>0.090909</td>\n",
       "      <td>0.133333</td>\n",
       "      <td>1.0</td>\n",
       "    </tr>\n",
       "    <tr>\n",
       "      <th>...</th>\n",
       "      <td>...</td>\n",
       "      <td>...</td>\n",
       "      <td>...</td>\n",
       "      <td>...</td>\n",
       "      <td>...</td>\n",
       "      <td>...</td>\n",
       "      <td>...</td>\n",
       "      <td>...</td>\n",
       "      <td>...</td>\n",
       "      <td>...</td>\n",
       "      <td>...</td>\n",
       "      <td>...</td>\n",
       "    </tr>\n",
       "    <tr>\n",
       "      <th>3339</th>\n",
       "      <td>0.000000</td>\n",
       "      <td>0.108696</td>\n",
       "      <td>0.573529</td>\n",
       "      <td>0.42</td>\n",
       "      <td>0.583851</td>\n",
       "      <td>0.756952</td>\n",
       "      <td>0.2500</td>\n",
       "      <td>0.175000</td>\n",
       "      <td>1.0</td>\n",
       "      <td>0.454545</td>\n",
       "      <td>0.666667</td>\n",
       "      <td>0.0</td>\n",
       "    </tr>\n",
       "    <tr>\n",
       "      <th>3340</th>\n",
       "      <td>0.000000</td>\n",
       "      <td>0.108696</td>\n",
       "      <td>0.676471</td>\n",
       "      <td>0.27</td>\n",
       "      <td>0.621118</td>\n",
       "      <td>0.776519</td>\n",
       "      <td>0.2500</td>\n",
       "      <td>0.198214</td>\n",
       "      <td>1.0</td>\n",
       "      <td>0.454545</td>\n",
       "      <td>0.700000</td>\n",
       "      <td>0.0</td>\n",
       "    </tr>\n",
       "    <tr>\n",
       "      <th>3341</th>\n",
       "      <td>0.000000</td>\n",
       "      <td>0.130435</td>\n",
       "      <td>0.198529</td>\n",
       "      <td>0.28</td>\n",
       "      <td>0.683230</td>\n",
       "      <td>0.598352</td>\n",
       "      <td>0.7500</td>\n",
       "      <td>0.158929</td>\n",
       "      <td>1.0</td>\n",
       "      <td>0.454545</td>\n",
       "      <td>0.733333</td>\n",
       "      <td>0.0</td>\n",
       "    </tr>\n",
       "    <tr>\n",
       "      <th>3342</th>\n",
       "      <td>0.000000</td>\n",
       "      <td>0.076087</td>\n",
       "      <td>0.683824</td>\n",
       "      <td>0.36</td>\n",
       "      <td>0.372671</td>\n",
       "      <td>0.563337</td>\n",
       "      <td>0.4375</td>\n",
       "      <td>0.228571</td>\n",
       "      <td>1.0</td>\n",
       "      <td>0.454545</td>\n",
       "      <td>0.766667</td>\n",
       "      <td>0.0</td>\n",
       "    </tr>\n",
       "    <tr>\n",
       "      <th>3343</th>\n",
       "      <td>0.000000</td>\n",
       "      <td>0.184783</td>\n",
       "      <td>0.691176</td>\n",
       "      <td>0.26</td>\n",
       "      <td>0.459627</td>\n",
       "      <td>0.579815</td>\n",
       "      <td>0.1250</td>\n",
       "      <td>0.171429</td>\n",
       "      <td>1.0</td>\n",
       "      <td>0.454545</td>\n",
       "      <td>0.800000</td>\n",
       "      <td>0.0</td>\n",
       "    </tr>\n",
       "  </tbody>\n",
       "</table>\n",
       "<p>3344 rows × 12 columns</p>\n",
       "</div>"
      ],
      "text/plain": [
       "      Rainfall Evaporation  Sunshine WindSpeed  Humidity  Pressure   Cloud  \\\n",
       "0     0.130653    0.336957  0.000000      0.37  0.900621  0.590113  1.0000   \n",
       "1     0.050251    0.184783  0.198529      0.22  0.776398  0.582904  0.8750   \n",
       "2     0.055276    0.130435  0.007353      0.19  0.888199  0.562307  0.9375   \n",
       "3     0.157454    0.119565  0.000000      0.42  0.881988  0.497425  1.0000   \n",
       "4     0.648241    0.217391  0.000000      0.17  0.813665  0.364573  1.0000   \n",
       "...        ...         ...       ...       ...       ...       ...     ...   \n",
       "3339  0.000000    0.108696  0.573529      0.42  0.583851  0.756952  0.2500   \n",
       "3340  0.000000    0.108696  0.676471      0.27  0.621118  0.776519  0.2500   \n",
       "3341  0.000000    0.130435  0.198529      0.28  0.683230  0.598352  0.7500   \n",
       "3342  0.000000    0.076087  0.683824      0.36  0.372671  0.563337  0.4375   \n",
       "3343  0.000000    0.184783  0.691176      0.26  0.459627  0.579815  0.1250   \n",
       "\n",
       "          Temp Year     Month       Day RainToday_Yes  \n",
       "0     0.410714  0.0  0.090909  0.000000           1.0  \n",
       "1     0.510714  0.0  0.090909  0.033333           1.0  \n",
       "2     0.498214  0.0  0.090909  0.066667           1.0  \n",
       "3     0.423214  0.0  0.090909  0.100000           1.0  \n",
       "4     0.525000  0.0  0.090909  0.133333           1.0  \n",
       "...        ...  ...       ...       ...           ...  \n",
       "3339  0.175000  1.0  0.454545  0.666667           0.0  \n",
       "3340  0.198214  1.0  0.454545  0.700000           0.0  \n",
       "3341  0.158929  1.0  0.454545  0.733333           0.0  \n",
       "3342  0.228571  1.0  0.454545  0.766667           0.0  \n",
       "3343  0.171429  1.0  0.454545  0.800000           0.0  \n",
       "\n",
       "[3344 rows x 12 columns]"
      ]
     },
     "execution_count": 101,
     "metadata": {},
     "output_type": "execute_result"
    }
   ],
   "source": [
    "cols = sdn.columns\n",
    "X = pd.DataFrame(X, columns=[cols[:-1]])\n",
    "X"
   ]
  },
  {
   "cell_type": "code",
   "execution_count": 106,
   "metadata": {},
   "outputs": [],
   "source": [
    "X_train, X_test, y_train, y_test = train_test_split(X, y, test_size = 0.2, random_state = 2)\n"
   ]
  },
  {
   "cell_type": "code",
   "execution_count": 115,
   "metadata": {},
   "outputs": [
    {
     "name": "stdout",
     "output_type": "stream",
     "text": [
      "best K results was with k=28 and the accuracy was 0.8251121076233184\n"
     ]
    },
    {
     "data": {
      "text/plain": [
       "Text(0, 0.5, 'Accuracy score')"
      ]
     },
     "execution_count": 115,
     "metadata": {},
     "output_type": "execute_result"
    },
    {
     "data": {
      "image/png": "[encoded data removed]",
      "text/plain": [
       "<Figure size 432x288 with 1 Axes>"
      ]
     },
     "metadata": {
      "needs_background": "light"
     },
     "output_type": "display_data"
    }
   ],
   "source": [
    "from sklearn.metrics import accuracy_score\n",
    "\n",
    "k_range = range(1,70)\n",
    "scores = []\n",
    "for k in k_range:\n",
    "    knn = KNeighborsClassifier(n_neighbors=k)\n",
    "    knn.fit(X_train,y_train)\n",
    "    y_pred=knn.predict(X_test)\n",
    "#     print('{0:0.4f}'.format(accuracy_score(y_test, y_pred)))\n",
    "    scores.append(accuracy_score(y_test, y_pred))\n",
    "\n",
    "print(\"best K results was with k={} and the accuracy was {}\".format(scores.index(max(scores)), max(scores)))\n",
    "#     we indeed would like the max value since we'd get as many bigger correct predictions as possible\n",
    "\n",
    "plt.plot(k_range,scores)\n",
    "plt.xlabel(\"K value\")\n",
    "plt.ylabel(\"Accuracy score\")"
   ]
  },
  {
   "cell_type": "markdown",
   "metadata": {},
   "source": [
    "#### With K = 28 we received the best accuracy of 0.82511"
   ]
  },
  {
   "cell_type": "markdown",
   "metadata": {},
   "source": [
    "## 3.2 Logistic Regression"
   ]
  },
  {
   "cell_type": "code",
   "execution_count": 116,
   "metadata": {},
   "outputs": [],
   "source": [
    "from sklearn.linear_model import LogisticRegression"
   ]
  },
  {
   "cell_type": "code",
   "execution_count": 117,
   "metadata": {},
   "outputs": [
    {
     "name": "stdout",
     "output_type": "stream",
     "text": [
      "Model accuracy score: 0.8296\n"
     ]
    }
   ],
   "source": [
    "logreg = LogisticRegression()\n",
    "logreg.fit(X_train, y_train)\n",
    "y_pred = logreg.predict(X_test)\n",
    "print('Model accuracy score: {0:0.4f}'. format(accuracy_score(y_test, y_pred)))"
   ]
  },
  {
   "cell_type": "markdown",
   "metadata": {},
   "source": [
    "### We can see that the accuracy of logistic regression is 0.8296 when the best accuracy with KNN we get is 0.82511 "
   ]
  },
  {
   "cell_type": "code",
   "execution_count": 118,
   "metadata": {},
   "outputs": [
    {
     "data": {
      "text/plain": [
       "array([[454,  22],\n",
       "       [ 92, 101]], dtype=int64)"
      ]
     },
     "execution_count": 118,
     "metadata": {},
     "output_type": "execute_result"
    }
   ],
   "source": [
    "from sklearn.metrics import confusion_matrix\n",
    "\n",
    "confusion_matrix(y_test, y_pred)"
   ]
  },
  {
   "cell_type": "code",
   "execution_count": 133,
   "metadata": {},
   "outputs": [],
   "source": [
    "from sklearn.metrics import roc_auc_score\n",
    "from sklearn.metrics import roc_curve\n",
    "\n",
    "\n",
    "fpr, tpr ,trh =roc_curve(y_test, logreg.predict_proba(X_test)[:,1])\n",
    "#a function that takes acutal values from test set and its predicted probability. \n",
    "#It generates fpr tpr for each existed threshold."
   ]
  },
  {
   "cell_type": "code",
   "execution_count": 134,
   "metadata": {},
   "outputs": [
    {
     "data": {
      "text/plain": [
       "<matplotlib.legend.Legend at 0x209de375790>"
      ]
     },
     "execution_count": 134,
     "metadata": {},
     "output_type": "execute_result"
    },
    {
     "data": {
      "image/png": "[encoded data removed]",
      "text/plain": [
       "<Figure size 360x360 with 1 Axes>"
      ]
     },
     "metadata": {
      "needs_background": "light"
     },
     "output_type": "display_data"
    }
   ],
   "source": [
    "roc_auc = roc_auc_score(y_test, y_pred)\n",
    "plt.figure(figsize=(5,5))\n",
    "plt.plot(fpr,tpr, label=\"Logistic regression acur {0:0.4f}\".format(roc_auc))\n",
    "plt.plot([0,1],[0,1], color=\"black\")\n",
    "plt.xlabel('FPR')\n",
    "plt.ylabel('TPR')\n",
    "plt.ylim([0,1])\n",
    "plt.xlim([0,1])\n",
    "plt.legend()"
   ]
  },
  {
   "cell_type": "code",
   "execution_count": null,
   "metadata": {},
   "outputs": [],
   "source": []
  }
 ],
 "metadata": {
  "kernelspec": {
   "display_name": "Python 3",
   "language": "python",
   "name": "python3"
  },
  "language_info": {
   "codemirror_mode": {
    "name": "ipython",
    "version": 3
   },
   "file_extension": ".py",
   "mimetype": "text/x-python",
   "name": "python",
   "nbconvert_exporter": "python",
   "pygments_lexer": "ipython3",
   "version": "3.8.3"
  }
 },
 "nbformat": 4,
 "nbformat_minor": 5
}
